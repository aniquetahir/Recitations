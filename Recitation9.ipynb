{
 "cells": [
  {
   "cell_type": "markdown",
   "metadata": {
    "slideshow": {
     "slide_type": "slide"
    }
   },
   "source": [
    "# Recitation 9\n",
    "---\n",
    "Anique Tahir"
   ]
  },
  {
   "cell_type": "markdown",
   "metadata": {
    "slideshow": {
     "slide_type": "subslide"
    }
   },
   "source": [
    "## Outline\n",
    "- Type Compatibility\n",
    "- Type Inference\n",
    "- Name Equivalence\n",
    "- Structural Equivalence\n",
    "- Assignment and Pointer Semantics"
   ]
  },
  {
   "cell_type": "markdown",
   "metadata": {
    "slideshow": {
     "slide_type": "slide"
    }
   },
   "source": [
    "## Data Types\n",
    "- Determine the values\n",
    "- Determine the operations on the values\n",
    "\n",
    "e.g. a*b is different for strings and ints"
   ]
  },
  {
   "cell_type": "markdown",
   "metadata": {
    "slideshow": {
     "slide_type": "subslide"
    }
   },
   "source": [
    "## Type Compatibility\n",
    "If we have a=b\n",
    "\n",
    "- under which conditions an assignment is valid\n",
    "- automatic type casting to be done (if needed)"
   ]
  },
  {
   "cell_type": "markdown",
   "metadata": {
    "slideshow": {
     "slide_type": "subslide"
    }
   },
   "source": [
    "## Type Inference\n",
    "Determining the type of an expression\n",
    "e.g. \n",
    "if the type of `a` is int* (pointer to int)\n",
    "what is the type of *a?\n",
    "\n",
    "What is the type of `s*a` where s is a string and a is an int?"
   ]
  },
  {
   "cell_type": "markdown",
   "metadata": {
    "slideshow": {
     "slide_type": "subslide"
    }
   },
   "source": [
    "## Type Declarations\n",
    "There are several kinds of type declarations\n",
    "- Built in types\n",
    "- User specified types (typedef in C)"
   ]
  },
  {
   "cell_type": "markdown",
   "metadata": {
    "slideshow": {
     "slide_type": "subslide"
    }
   },
   "source": [
    "## Type Systems\n",
    "The combination of:\n",
    "- Type Declarations\n",
    "- Type Compatibility Rules\n",
    "- Type Inference Rules\n",
    "\n",
    "form a Type System"
   ]
  },
  {
   "cell_type": "markdown",
   "metadata": {
    "slideshow": {
     "slide_type": "slide"
    }
   },
   "source": [
    "## Type Compatibility\n",
    "Several ways of finding type compatibility:\n",
    "\n",
    "- Name Equivalence\n",
    "- Internal Name Equivalence\n",
    "- Structural Equivalence"
   ]
  },
  {
   "cell_type": "markdown",
   "metadata": {
    "slideshow": {
     "slide_type": "subslide"
    }
   },
   "source": [
    "## Name Equivalence\n",
    "\n",
    "In name equivalence we check for the name for the type. The types are equivalent if:\n",
    "\n",
    "- The built in types are the same\n",
    "- The name of the types are the same\n",
    "\n"
   ]
  },
  {
   "cell_type": "markdown",
   "metadata": {
    "slideshow": {
     "slide_type": "subslide"
    }
   },
   "source": [
    "### Example\n",
    "```\n",
    "TYPE \n",
    "    length : real;\n",
    "    speed  : real;\n",
    "VAR\n",
    "    x : length; \n",
    "    y : speed;\n",
    "{\n",
    "    x = 1.0;\n",
    "    y = x;\n",
    "}\n",
    "```\n",
    "\n",
    "y=x is not allowed because the names are different"
   ]
  },
  {
   "cell_type": "markdown",
   "metadata": {
    "slideshow": {
     "slide_type": "subslide"
    }
   },
   "source": [
    "### Exercise\n",
    "```\n",
    "TYPE\n",
    "    T1 : real;\n",
    "    T2 : real;\n",
    "    T3 : array [1..5] of T1;\n",
    "VAR\n",
    "    x : array [1..5] of T1;\n",
    "    y : array [1..5] of T1;\n",
    "    z, w, : array [1..5] of T1;\n",
    "    p : T3;\n",
    "    q : T3;\n",
    "{\n",
    "    x=y;        //Statement 1\n",
    "    z=w;        //Statement 2\n",
    "    p=q;        //Statement 3\n",
    "    x[1]=y[1];  //Statement 4\n",
    "}\n",
    "```\n",
    "Which of the statements are valid?\n"
   ]
  },
  {
   "cell_type": "markdown",
   "metadata": {},
   "source": [
    "## Internal Name Equivalence\n",
    "Two variables are internal name equivalent if:\n",
    "\n",
    "- The are name equivalent \n",
    "\n",
    "OR\n",
    "\n",
    "- The share the same declaration\n",
    "\n"
   ]
  },
  {
   "cell_type": "markdown",
   "metadata": {},
   "source": [
    "### Example\n",
    "```\n",
    "TYPE\n",
    "    T1 : int;\n",
    "    T2 : int;\n",
    "VAR\n",
    "    s : array [1 ... 4] of int;\n",
    "    t : array [1 ... 4 ] of int;\n",
    "    u, v : array [1 ... 4] of int;\n",
    "    w : int;\n",
    "    x : T1;\n",
    "    y : T1;\n",
    "    z : T2;\n",
    "```\n",
    "\n",
    "u and v are internal name equivalent (same declaration)\n",
    "\n",
    "x and y are internal name equivalent (same type name)"
   ]
  },
  {
   "cell_type": "markdown",
   "metadata": {},
   "source": [
    "## Structural Equivalence\n",
    "\n",
    "Two types are structurally equivalent if the memory structures are similar i.e. if one is copied to another, they would be the same.\n",
    "\n",
    "Two pointers are structurally equivalent if the underlying type they are pointing to are structurally equivalent\n",
    "\n"
   ]
  },
  {
   "cell_type": "markdown",
   "metadata": {},
   "source": [
    "### Example\n",
    "```\n",
    "TYPE\n",
    "    T1 : int;\n",
    "    T2 : real;\n",
    "    T3 : int;\n",
    "VAR\n",
    "    a : T1;\n",
    "    b : T2;\n",
    "    c : T3;\n",
    "    p : pointer to T1;\n",
    "    q : pointer to T2;\n",
    "```\n",
    "\n",
    "real representation: 200 = 2 * (10^2)\n",
    "\n",
    "mantissa: 2, exponent: 2\n",
    "\n",
    "int representation: 200"
   ]
  },
  {
   "cell_type": "markdown",
   "metadata": {},
   "source": [
    "## Structs and Structural Equivalence\n",
    "```\n",
    "T1 : struct{\n",
    "    a : int;\n",
    "    b : real;\n",
    "}\n",
    "T2 : struct{\n",
    "    b : real;\n",
    "    a : int;\n",
    "}\n",
    "```\n"
   ]
  },
  {
   "cell_type": "markdown",
   "metadata": {},
   "source": [
    "## Arrays and Structural Equivalence\n",
    "```\n",
    "T1 : array [1..4][1..5] of int\n",
    "T2 : array [1..5][1..4] of int\n",
    "T3 : array [1..4][1..5] of real\n",
    "T4 : array [2..5][2..6] of int\n",
    "```"
   ]
  },
  {
   "cell_type": "markdown",
   "metadata": {},
   "source": [
    "## Functions and Structural Equivalence\n",
    "The parameter types and return types of functions should be the same for them to be considered structurally equivalent\n",
    "\n",
    "### Example\n",
    "```\n",
    "T1 : function of (int, int) returns int\n",
    "T2 : function of (int, real) returns int\n",
    "T3 : function of (int, int) returns real\n",
    "T4 : function of (real, int) returns int\n",
    "T5 : function of (int, int) returns pointer to int\n",
    "T6 : function of (int, int) returns int\n",
    "```"
   ]
  },
  {
   "cell_type": "markdown",
   "metadata": {},
   "source": [
    "## Algorithm for Structural Equivalence (Helpful for circular references)\n",
    "\n",
    "- Assume all types are equal\n",
    "- Mark non equivalent types\n",
    "- For each type T1\n",
    "    For each type T2\n",
    "        T1 and T2 are not equivalent if their underlying types do not match\n",
    "- Repeat step 3 until theres no difference between iterations\n"
   ]
  },
  {
   "cell_type": "markdown",
   "metadata": {},
   "source": [
    "## Exercise\n",
    "```\n",
    "A: struct{\n",
    "    a : int;\n",
    "    next : pointer to B;\n",
    "}\n",
    "B: struct{\n",
    "    a : int;\n",
    "    next : pointer to C;\n",
    "}\n",
    "C : struct{\n",
    "    a : real;\n",
    "    next : pointer to A;\n",
    "} \n",
    "T1 : array [1..4] of A;\n",
    "T2 : array [1..4] of B;\n",
    "```\n",
    "\n",
    "Find structural equivalence using the algorithm\n"
   ]
  },
  {
   "cell_type": "markdown",
   "metadata": {},
   "source": [
    "# Questions"
   ]
  },
  {
   "cell_type": "code",
   "execution_count": null,
   "metadata": {},
   "outputs": [],
   "source": []
  }
 ],
 "metadata": {
  "celltoolbar": "Slideshow",
  "kernelspec": {
   "display_name": "Python 3",
   "language": "python",
   "name": "python3"
  },
  "language_info": {
   "codemirror_mode": {
    "name": "ipython",
    "version": 3
   },
   "file_extension": ".py",
   "mimetype": "text/x-python",
   "name": "python",
   "nbconvert_exporter": "python",
   "pygments_lexer": "ipython3",
   "version": "3.6.5"
  }
 },
 "nbformat": 4,
 "nbformat_minor": 2
}
