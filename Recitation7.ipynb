{
 "cells": [
  {
   "cell_type": "markdown",
   "metadata": {
    "slideshow": {
     "slide_type": "slide"
    }
   },
   "source": [
    "# Recitation 7\n",
    "---\n",
    "Anique Tahir"
   ]
  },
  {
   "cell_type": "markdown",
   "metadata": {
    "slideshow": {
     "slide_type": "subslide"
    }
   },
   "source": [
    "## Outline\n",
    "\n",
    "- Lambda Calculus functions(Pt. 3)\n",
    "- Evaluation"
   ]
  },
  {
   "cell_type": "markdown",
   "metadata": {
    "slideshow": {
     "slide_type": "slide"
    }
   },
   "source": [
    "## Not (Lambda)\n"
   ]
  },
  {
   "cell_type": "markdown",
   "metadata": {
    "slideshow": {
     "slide_type": "fragment"
    }
   },
   "source": [
    "How many parameters does the `not` function take?"
   ]
  },
  {
   "cell_type": "markdown",
   "metadata": {
    "slideshow": {
     "slide_type": "fragment"
    }
   },
   "source": [
    "$\\lambda x . $__"
   ]
  },
  {
   "cell_type": "markdown",
   "metadata": {
    "slideshow": {
     "slide_type": "fragment"
    }
   },
   "source": [
    "not tru = fls\n",
    "\n",
    "How do you represent this using $\\lambda x . $__ ?  \n",
    "\n",
    "$(\\lambda x . \\_\\_\\_) tru =_\\beta fls$"
   ]
  },
  {
   "cell_type": "markdown",
   "metadata": {
    "slideshow": {
     "slide_type": "fragment"
    }
   },
   "source": [
    "$(\\lambda x . x\\ fls \\_) tru$"
   ]
  },
  {
   "cell_type": "markdown",
   "metadata": {
    "slideshow": {
     "slide_type": "fragment"
    }
   },
   "source": [
    "$not = \\lambda x . x\\ fls\\ tru$"
   ]
  },
  {
   "cell_type": "markdown",
   "metadata": {
    "slideshow": {
     "slide_type": "slide"
    }
   },
   "source": [
    "## Church's Numerals\n",
    "\n",
    "- We only have four grammar rules in Lambda Calculus\n",
    "- We want to define integers in lambda calculus. why?\n"
   ]
  },
  {
   "cell_type": "markdown",
   "metadata": {
    "slideshow": {
     "slide_type": "fragment"
    }
   },
   "source": [
    "$0 = \\lambda s. \\lambda z. z$\n",
    "\n",
    "$1 = \\lambda s. \\lambda z. s  z$\n",
    "\n",
    "$2 = \\lambda s. \\lambda z. s (s z)$\n",
    "\n",
    "$3 = \\lambda s. \\lambda z. s (s (s z))$\n",
    "\n",
    "$4 = \\lambda s. \\lambda z. s (s (s (s z)))$\n",
    "\n",
    "$n = \\lambda s. \\lambda z. s(s(s...( s z)...))$ where $count_s = n$\n"
   ]
  },
  {
   "cell_type": "markdown",
   "metadata": {
    "slideshow": {
     "slide_type": "subslide"
    }
   },
   "source": [
    "## What Church's numerals do?\n",
    "\n",
    "Given n a b, where n is a church's numeral:\n",
    "\n",
    "Apply function a, n times starting with b as argument"
   ]
  },
  {
   "cell_type": "markdown",
   "metadata": {
    "slideshow": {
     "slide_type": "slide"
    }
   },
   "source": [
    "## Successor Function\n",
    "\n",
    "`succ` finds the next number given an input\n",
    "\n",
    "e.g. succ 3 = ?"
   ]
  },
  {
   "cell_type": "markdown",
   "metadata": {
    "slideshow": {
     "slide_type": "fragment"
    }
   },
   "source": [
    "succ 3 = 4\n",
    "\n",
    "\n",
    "\n"
   ]
  },
  {
   "cell_type": "markdown",
   "metadata": {
    "slideshow": {
     "slide_type": "subslide"
    }
   },
   "source": [
    "## `succ` function design\n",
    "$n = \\lambda s. \\lambda z. s(s(s...( s z)...))$ where $count_s = n$\n",
    "\n",
    "$n+1 = \\lambda s. \\lambda z. s(s(s...( s z)...))$ where $count_s = n + 1$\n",
    "\n",
    "$succ\\ n = \\lambda n. \\_\\_ n \\_$\n",
    "\n",
    "We want to insert additional s into the body of n. How do you get the body of n?"
   ]
  },
  {
   "cell_type": "markdown",
   "metadata": {
    "slideshow": {
     "slide_type": "fragment"
    }
   },
   "source": [
    "$succ\\ n = \\lambda n. \\_\\_ n\\ s\\ z$"
   ]
  },
  {
   "cell_type": "markdown",
   "metadata": {
    "slideshow": {
     "slide_type": "fragment"
    }
   },
   "source": [
    "$succ\\ n = \\lambda n. \\_s ( n\\ s\\ z )$"
   ]
  },
  {
   "cell_type": "markdown",
   "metadata": {
    "slideshow": {
     "slide_type": "fragment"
    }
   },
   "source": [
    "$succ\\ n = \\lambda n. \\lambda s.\\lambda z.s ( n\\ s\\ z )$"
   ]
  },
  {
   "cell_type": "markdown",
   "metadata": {
    "slideshow": {
     "slide_type": "subslide"
    }
   },
   "source": [
    "## Exercise \n",
    "\n",
    "$n = \\lambda s. \\lambda z. s(s(s...( s z)...))$ where $count_s = n$\n",
    "\n",
    "Design a function `ducc` where `ducc n = n+2`"
   ]
  },
  {
   "cell_type": "markdown",
   "metadata": {
    "slideshow": {
     "slide_type": "slide"
    }
   },
   "source": [
    "## Designing the plus operator\n",
    "\n",
    "Recall: \n",
    "\n",
    "Given n a b, where n is a church's numeral:\n",
    "\n",
    "Apply function a, n times starting with b as argument\n",
    "\n",
    "We can use this with `succ` to define `plus`\n",
    "\n",
    "2+3 = successor of 3 two times\n",
    "\n",
    "x + y = successor of y, x times\n",
    "\n",
    "$plus = \\lambda x. \\lambda y. \\_\\_$?\n",
    "\n"
   ]
  },
  {
   "cell_type": "markdown",
   "metadata": {
    "slideshow": {
     "slide_type": "fragment"
    }
   },
   "source": [
    "$plus = \\lambda x. \\lambda y. x\\ succ\\ y$"
   ]
  },
  {
   "cell_type": "markdown",
   "metadata": {
    "slideshow": {
     "slide_type": "slide"
    }
   },
   "source": [
    "## Multiplication\n",
    "\n",
    "- How does multiplication work?\n"
   ]
  },
  {
   "cell_type": "markdown",
   "metadata": {
    "slideshow": {
     "slide_type": "fragment"
    }
   },
   "source": [
    "- How does multiplication work in terms of addition?"
   ]
  },
  {
   "cell_type": "markdown",
   "metadata": {
    "slideshow": {
     "slide_type": "fragment"
    }
   },
   "source": [
    "$x \\times 1 = x$\n",
    "\n",
    "$x \\times 2 = x + x$\n",
    "\n",
    "$x \\times 3 = x + x + x$\n",
    "\n",
    "$x \\times y = x_1 + x_2 + ... + x_y$, where x_1, x_2, ..., x_y = x\n",
    "\n"
   ]
  },
  {
   "cell_type": "markdown",
   "metadata": {
    "slideshow": {
     "slide_type": "subslide"
    }
   },
   "source": [
    "## Designing Multiplication\n",
    "\n",
    "$plus = \\lambda x. \\lambda y. \\_\\_$\n",
    "$plus = \\lambda x. \\lambda y. \\_(plus\\ y)\\_$\n"
   ]
  },
  {
   "cell_type": "markdown",
   "metadata": {
    "slideshow": {
     "slide_type": "fragment"
    }
   },
   "source": [
    "$plus = \\lambda x. \\lambda y. x(plus\\ y)\\_$"
   ]
  },
  {
   "cell_type": "markdown",
   "metadata": {
    "slideshow": {
     "slide_type": "fragment"
    }
   },
   "source": [
    "$x \\times y = x_1 + x_2 + ... + x_y$\n",
    "\n",
    "$x \\times y = x_1 + x_2 + ... + x_y + 0$\n",
    "\n",
    "=> $plus = \\lambda x. \\lambda y. x(plus\\ y)0$\n"
   ]
  },
  {
   "cell_type": "markdown",
   "metadata": {
    "slideshow": {
     "slide_type": "slide"
    }
   },
   "source": [
    "## Prd (Predecessor)\n",
    "\n",
    "We want to design a function which gives the following output when applied to the previous output:\n",
    "\n",
    "(0,0)->(0,1)->(1,2)->(2,3)->...->(n-1,n)\n",
    "\n",
    "`zz = pair 0 0`\n",
    "\n",
    "$ss = \\lambda p. pair\\ (snd\\ p)\\ (succ\\ (snd\\ p))$\n",
    "\n",
    "What is `2 ss zz`?\n",
    "What is `3 ss zz`?\n",
    "What is `fst (2 ss zz)`?\n",
    "What is `fst (3 ss zz)`?"
   ]
  },
  {
   "cell_type": "markdown",
   "metadata": {
    "slideshow": {
     "slide_type": "fragment"
    }
   },
   "source": [
    "$prd\\ x = \\lambda x. fst (x\\ ss\\ zz)$"
   ]
  },
  {
   "cell_type": "markdown",
   "metadata": {
    "slideshow": {
     "slide_type": "slide"
    }
   },
   "source": [
    "## Minus \n",
    "\n",
    "4-3 => predessor of 4, 3 times\n",
    "x-y => predessor of x, y times\n",
    "\n",
    "$\\lambda x.\\lambda y. y\\ prd\\ x$"
   ]
  },
  {
   "cell_type": "markdown",
   "metadata": {
    "slideshow": {
     "slide_type": "slide"
    }
   },
   "source": [
    "## IsZero\n",
    "Recall:\n",
    "\n",
    "$0 = \\lambda s. \\lambda z. z$\n",
    "\n",
    "$n = \\lambda s. \\lambda z. s(s(s...( s z)...))$\n",
    "\n",
    "$fls = \\lambda x. \\lambda y. y$\n",
    "\n",
    "=> $iszero = \\lambda x. x\\ \\_\\_\\ tru$\n"
   ]
  },
  {
   "cell_type": "markdown",
   "metadata": {
    "slideshow": {
     "slide_type": "fragment"
    }
   },
   "source": [
    "$iszero = \\lambda x. x\\ (\\lambda y.\\ fls)\\ tru$"
   ]
  },
  {
   "cell_type": "markdown",
   "metadata": {
    "slideshow": {
     "slide_type": "slide"
    }
   },
   "source": [
    "## Some more functions\n",
    "\n",
    "$equal = \\lambda x. \\lambda y. and\\ (iszero (minus\\ x\\ y)) (iszero (minus\\ y\\ x))$\n",
    "\n",
    "$geq = \\lambda x. \\lambda y. (iszero (minus\\ y\\ x))$\n",
    "\n",
    "**Exercise**\n",
    "\n",
    "Derive `leq`(less than equal to) lambda function\n",
    "\n",
    "Derive `less_than` lambda function"
   ]
  },
  {
   "cell_type": "markdown",
   "metadata": {
    "slideshow": {
     "slide_type": "fragment"
    }
   },
   "source": [
    "leq x y = geq y x "
   ]
  },
  {
   "cell_type": "markdown",
   "metadata": {
    "slideshow": {
     "slide_type": "fragment"
    }
   },
   "source": [
    "less_than x y = not (geq x y)\n",
    "\n",
    "$= \\lambda w. \\lambda j ( \\lambda x . x\\ fls\\ tru ) ((\\lambda x. \\lambda y. (iszero (minus\\ y\\ x))) w j)$"
   ]
  },
  {
   "cell_type": "markdown",
   "metadata": {
    "slideshow": {
     "slide_type": "slide"
    }
   },
   "source": [
    "## Lambda Expression Evaluation\n",
    "There are different ways to evaluate a lambda Expression\n",
    "- Full Beta Reduction\n",
    "- Normal Order Evaluation\n",
    "- Call by Value\n",
    "- Call by Name"
   ]
  },
  {
   "cell_type": "markdown",
   "metadata": {
    "slideshow": {
     "slide_type": "subslide"
    }
   },
   "source": [
    "## Full Beta Reduction\n",
    "Any redex can be reduced first"
   ]
  },
  {
   "cell_type": "markdown",
   "metadata": {
    "slideshow": {
     "slide_type": "subslide"
    }
   },
   "source": [
    "# Normal Order Evaluation\n",
    "- Left Outermost Redex is reduced first\n",
    "\n",
    "e.g.\n",
    "\n",
    "$(\\lambda x. x ((\\lambda y. x)w))z$\n",
    "\n",
    "$\\rightarrow_\\beta z ((\\lambda y. z)w)$\n",
    "\n",
    "$\\rightarrow_\\beta z z$\n",
    "\n"
   ]
  },
  {
   "cell_type": "markdown",
   "metadata": {
    "slideshow": {
     "slide_type": "subslide"
    }
   },
   "source": [
    "## Call By Value Evaluation\n",
    "- A subexpression is a value if it cannot be reduced further\n",
    "- Redex is not reduced if argument is not a value\n",
    "- A subexpression cannot be reduced if it is in the body of an abstraction\n",
    "\n",
    "\n"
   ]
  },
  {
   "cell_type": "markdown",
   "metadata": {
    "slideshow": {
     "slide_type": "fragment"
    }
   },
   "source": [
    "**Exercise**\n",
    "\n",
    "1. Reduce $(\\lambda x. (\\lambda y. y) z)((\\lambda l. l\\ m\\ n)j)$ using call by value\n",
    "2. Reduce $(\\lambda x. x)(\\lambda w.(\\lambda l. l\\ m\\ n)j)$"
   ]
  },
  {
   "cell_type": "markdown",
   "metadata": {
    "slideshow": {
     "slide_type": "slide"
    }
   },
   "source": [
    "# Questions"
   ]
  },
  {
   "cell_type": "code",
   "execution_count": null,
   "metadata": {},
   "outputs": [],
   "source": []
  },
  {
   "cell_type": "code",
   "execution_count": null,
   "metadata": {},
   "outputs": [],
   "source": []
  }
 ],
 "metadata": {
  "celltoolbar": "Slideshow",
  "kernelspec": {
   "display_name": "Python 3",
   "language": "python",
   "name": "python3"
  },
  "language_info": {
   "codemirror_mode": {
    "name": "ipython",
    "version": 3
   },
   "file_extension": ".py",
   "mimetype": "text/x-python",
   "name": "python",
   "nbconvert_exporter": "python",
   "pygments_lexer": "ipython3",
   "version": "3.6.5"
  }
 },
 "nbformat": 4,
 "nbformat_minor": 2
}
