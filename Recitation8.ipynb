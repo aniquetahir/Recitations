{
 "cells": [
  {
   "cell_type": "markdown",
   "metadata": {
    "slideshow": {
     "slide_type": "slide"
    }
   },
   "source": [
    "# Recitation 8\n",
    "---\n",
    "Anique Tahir"
   ]
  },
  {
   "cell_type": "markdown",
   "metadata": {
    "slideshow": {
     "slide_type": "subslide"
    }
   },
   "source": [
    "## Outline\n",
    "- Static and Dynamic Scoping\n",
    "- GDB\n",
    "- Recursion in Lambda Calculus"
   ]
  },
  {
   "cell_type": "markdown",
   "metadata": {
    "slideshow": {
     "slide_type": "slide"
    }
   },
   "source": [
    "## Scoping\n",
    "\n",
    "In modern programming languages there are scopes defined by blocks of code.\n",
    "\n",
    "There are different ways of look at the scopes semantically \n",
    "\n",
    "Which declaration of a variable needs to be used\n",
    "\n",
    "Dynamic scoping considers the call stack\n",
    "\n",
    "Static scoping considers the location in the code\n"
   ]
  },
  {
   "cell_type": "markdown",
   "metadata": {
    "slideshow": {
     "slide_type": "subslide"
    }
   },
   "source": [
    "## Variable Declarations\n",
    "\n",
    "- Explicit e.g. C++, Java \n",
    "```C++\n",
    "int x=1;\n",
    "```\n",
    "\n",
    "- Implicit e.g. Python\n",
    "```python\n",
    "x=1\n",
    "```\n"
   ]
  },
  {
   "cell_type": "markdown",
   "metadata": {
    "slideshow": {
     "slide_type": "subslide"
    }
   },
   "source": [
    "## Static Scoping\n",
    "\n",
    "- Used by normal programming languages. e.g. C/C++, python, Java, JS, etc\n",
    "- The relationship between the caller and callee does not matter.\n",
    "- The declaration in the closest scope in the code text is used\n",
    "\n",
    "**Example**\n",
    "```\n",
    "i=3\n",
    "{\n",
    "    i=1\n",
    "    g()\n",
    "}\n",
    "\n",
    "fn g(){\n",
    "    print i  // prints 3\n",
    "}\n",
    "```"
   ]
  },
  {
   "cell_type": "markdown",
   "metadata": {
    "slideshow": {
     "slide_type": "subslide"
    }
   },
   "source": [
    "## Exercise\n",
    "```\n",
    "int a, b, c; /* declaration1 */\n",
    "int g(int a) /* declaration2 */\n",
    "{\n",
    "    return a + b + c;/* point 1 */\n",
    "}\n",
    "int f(int x, int y)/* declaration3 */\n",
    "{\n",
    "    int b; /* declaration4 */\n",
    "    b = 4; a = b + 1;\n",
    "    {\n",
    "        int a, b; /* declaration5 */\n",
    "        a = 1;b = 2;c = a + b; /* point 2 */\n",
    "    }\n",
    "    x =  g(y) + a; /* point 3 */\n",
    "    return x;\n",
    "}\n",
    "void main(){\n",
    "    int a, c; /* declaration6 */\n",
    "    c = 7;b = 1;a = g(c);b = f(a, c);\n",
    "    printf(\"%d %d %d\\n\", a, b, c);\n",
    "}\n",
    "```\n",
    "Using static scoping respectively, the reference to cat point 2is resolved to which declaration?"
   ]
  },
  {
   "cell_type": "markdown",
   "metadata": {
    "slideshow": {
     "slide_type": "subslide"
    }
   },
   "source": [
    "## Dynamic Scoping\n",
    "\n",
    "- Used by unpopular/dead programming languages. Anyone heard of LISP?\n",
    "- The scope is determined by the caller and callee relationship\n",
    "- The declaration in the closest call stack is used\n",
    "\n",
    "e.g.\n",
    "```\n",
    "i=3\n",
    "{\n",
    "    i=1\n",
    "    g()\n",
    "}\n",
    "\n",
    "fn g(){\n",
    "    print i //prints 1\n",
    "}\n",
    "```\n"
   ]
  },
  {
   "cell_type": "markdown",
   "metadata": {
    "slideshow": {
     "slide_type": "subslide"
    }
   },
   "source": [
    "## Exercise\n",
    "```\n",
    "int a, b, c; /* declaration1 */\n",
    "int g(int a) /* declaration2 */\n",
    "{\n",
    "    return a + b + c;/* point 1 */\n",
    "}\n",
    "int f(int x, int y)/* declaration3 */\n",
    "{\n",
    "    int b; /* declaration4 */\n",
    "    b = 4; a = b + 1;\n",
    "    {\n",
    "        int a, b; /* declaration5 */\n",
    "        a = 1;b = 2;c = a + b; /* point 2 */\n",
    "    }\n",
    "    x =  g(y) + a; /* point 3 */\n",
    "    return x;\n",
    "}\n",
    "void main(){\n",
    "    int a, c; /* declaration6 */\n",
    "    c = 7;b = 1;a = g(c);b = f(a, c);\n",
    "    printf(\"%d %d %d\\n\", a, b, c);\n",
    "}\n",
    "```\n",
    "Using static scoping respectively, the reference to cat point 2is resolved to which declaration?"
   ]
  },
  {
   "cell_type": "markdown",
   "metadata": {
    "slideshow": {
     "slide_type": "slide"
    }
   },
   "source": [
    "## GDB\n",
    "\n",
    "\n",
    "- Program which debugs code. \n",
    "- Most IDE's use gdb to debug the code and provide a GUI \n",
    "- Allows you to look at assembly instructions\n",
    "- You can use gdb to debug code on general.asu.edu since its a CLI tool\n",
    "- Installation: \n",
    "```\n",
    "apt/yum/pkg/brew install gdb\n",
    "```\n"
   ]
  },
  {
   "cell_type": "markdown",
   "metadata": {
    "slideshow": {
     "slide_type": "subslide"
    }
   },
   "source": [
    "## How to Use GDB\n",
    "\n",
    "### CLI:\n",
    "```\n",
    "gdb <executable filename>\n",
    "```\n",
    "\n",
    "\n"
   ]
  },
  {
   "cell_type": "markdown",
   "metadata": {
    "slideshow": {
     "slide_type": "subslide"
    }
   },
   "source": [
    "![](./gdb_cheat.png)\n",
    "http://users.ece.utexas.edu/~adnan/gdb-refcard.pdf"
   ]
  },
  {
   "cell_type": "markdown",
   "metadata": {
    "slideshow": {
     "slide_type": "subslide"
    }
   },
   "source": [
    "## Demo of GDB"
   ]
  },
  {
   "cell_type": "markdown",
   "metadata": {
    "slideshow": {
     "slide_type": "slide"
    }
   },
   "source": [
    "## Recursion in Lambda Calculus\n",
    "\n",
    "- Recursion is not built into Lambda Calculus\n",
    "- We use the y-combinator/fix function to achieve recursion because of its unique properties\n",
    "- Use fix function with caution since it breaks stuff\n",
    "\n"
   ]
  },
  {
   "cell_type": "markdown",
   "metadata": {
    "slideshow": {
     "slide_type": "subslide"
    }
   },
   "source": [
    "## Y-Combinator/Fix Function\n",
    "\n",
    "Curry's fix point function\n",
    "\n",
    "$\\textsf {Y}=\\lambda f.(\\lambda x.f\\ (x\\ x))\\ (\\lambda x.f\\ (x\\ x))$\n",
    "\n",
    "Property of Y-combinator\n",
    "\n",
    "$\\textsf {Y}\\ f=f\\ ({\\textsf {Y}}\\ f)$\n",
    "\n",
    "$=f\\ (f\\ ({\\textsf {Y}}\\ f))$\n",
    "\n",
    "$\\textsf {Y} = fix$\n"
   ]
  },
  {
   "cell_type": "markdown",
   "metadata": {
    "slideshow": {
     "slide_type": "subslide"
    }
   },
   "source": [
    "## Recursion example(Factorial)\n",
    "$1! = 1$\n",
    "\n",
    "$2! = 2 \\times 1$\n",
    "\n",
    "$3! = 3 \\times 2 \\times 1$\n",
    "\n",
    "$n! = n \\times (n-1)!$\n",
    "\n",
    "```\n",
    "fn fact(n):\n",
    "    if n=0\n",
    "        return 1\n",
    "    else\n",
    "        return n * fact(n-1)\n",
    "```\n",
    "\n",
    "$f  = (iszero\\ n) 1 (multiply\\ n\\ (f\\ (pred\\ n))$\n",
    "\n",
    "$F\\ f\\ n  = (iszero\\ n) 1 (multiply\\ n\\ (f\\ (pred\\ n))$\n",
    "\n",
    "$\\textsf {Y}\\ F\\ n = F (\\textsf {Y}\\ F)\\ n $\n",
    "\n",
    "$ = (iszero\\ n) 1 (multiply\\ n\\ (\\textsf {Y}\\ F\\ (pred\\ n)) $\n",
    "\n",
    "$\\textsf {Y}\\ F\\ n = F\\ (F\\ ...(\\textsf {Y}\\ F)\\ n$\n",
    "\n"
   ]
  },
  {
   "cell_type": "markdown",
   "metadata": {
    "slideshow": {
     "slide_type": "slide"
    }
   },
   "source": [
    "# Questions"
   ]
  },
  {
   "cell_type": "code",
   "execution_count": null,
   "metadata": {},
   "outputs": [],
   "source": []
  }
 ],
 "metadata": {
  "celltoolbar": "Slideshow",
  "kernelspec": {
   "display_name": "Python 3",
   "language": "python",
   "name": "python3"
  },
  "language_info": {
   "codemirror_mode": {
    "name": "ipython",
    "version": 3
   },
   "file_extension": ".py",
   "mimetype": "text/x-python",
   "name": "python",
   "nbconvert_exporter": "python",
   "pygments_lexer": "ipython3",
   "version": "3.6.5"
  }
 },
 "nbformat": 4,
 "nbformat_minor": 2
}
