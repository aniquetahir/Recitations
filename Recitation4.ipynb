{
 "cells": [
  {
   "cell_type": "markdown",
   "metadata": {
    "slideshow": {
     "slide_type": "slide"
    }
   },
   "source": [
    "# Recitation 4*\n",
    "---\n",
    "\\* Please mark attendance at the sheet in front\n",
    "\n",
    "Anique Tahir"
   ]
  },
  {
   "cell_type": "markdown",
   "metadata": {
    "slideshow": {
     "slide_type": "slide"
    }
   },
   "source": [
    "## Outline\n",
    "- Bit Vector Sets\n",
    "  - Bit Vector Operations\n",
    "  - Representing First/Follow sets\n",
    "- Finding/Eliminating useless symbols\n",
    "  - Generating Symbols\n",
    "- Operator Precedence Parsing"
   ]
  },
  {
   "cell_type": "markdown",
   "metadata": {
    "slideshow": {
     "slide_type": "slide"
    }
   },
   "source": [
    "## Bit Vector Sets\n",
    "\n",
    "- Sets can be represented as bit vectors\n",
    "- Each bit represents whether an element exists(or not)\n",
    "- This makes some set operations easier\n"
   ]
  },
  {
   "cell_type": "markdown",
   "metadata": {
    "slideshow": {
     "slide_type": "subslide"
    }
   },
   "source": [
    "### Bit Vector Set example\n",
    "\n",
    "Elements:\n",
    "S,A,B,C\n",
    "\n",
    "Set:\n",
    "{S,B}\n",
    "\n",
    "Bit Vector:\n",
    "\n",
    "`[0-S, 1-A, 2-B, 3-C]`\n"
   ]
  },
  {
   "cell_type": "markdown",
   "metadata": {
    "slideshow": {
     "slide_type": "fragment"
    }
   },
   "source": [
    "null set: `[0, 0, 0, 0]`"
   ]
  },
  {
   "cell_type": "markdown",
   "metadata": {
    "slideshow": {
     "slide_type": "fragment"
    }
   },
   "source": [
    "{S, B}: `[1, 0, 1, 0]`"
   ]
  },
  {
   "cell_type": "markdown",
   "metadata": {
    "slideshow": {
     "slide_type": "subslide"
    }
   },
   "source": [
    "### Universe\n",
    "\n",
    "Bit Vector representing all the possible elements\n",
    "\n",
    "e.g. Given\n",
    "\n",
    "$S \\rightarrow A B$\n",
    "\n",
    "$A \\rightarrow A a$\n",
    "\n",
    "$B \\rightarrow A b$\n",
    "\n",
    "universe: $[\\textbf{0}-\\varepsilon, \\textbf{1}-EOF, \\textbf{2}-a, \\textbf{3}-b, \\textbf{4}-A, \\textbf{5}-B ]$\n",
    "\n",
    "Whats the universe for First and Follow sets?\n"
   ]
  },
  {
   "cell_type": "markdown",
   "metadata": {
    "slideshow": {
     "slide_type": "fragment"
    }
   },
   "source": [
    "$[\\textbf{0}-\\varepsilon, \\textbf{1}-EOF, \\textbf{2}-a, \\textbf{3}-b]$"
   ]
  },
  {
   "cell_type": "markdown",
   "metadata": {
    "slideshow": {
     "slide_type": "subslide"
    }
   },
   "source": [
    "### Using Bit Vectors for Calculations\n",
    "Given sets A and B. Let the corresponding bit vectors be A' and B'\n",
    "\n",
    "(A' and B' are in the same universe)\n",
    "\n",
    "Union:\n",
    "\n",
    "$A \\cup B = A' | B'$\n",
    "\n",
    "Intersection:\n",
    "\n",
    "$A \\cap B = A' \\& B'$"
   ]
  },
  {
   "cell_type": "markdown",
   "metadata": {
    "slideshow": {
     "slide_type": "subslide"
    }
   },
   "source": [
    "### Exercise\n",
    "\n",
    "Given the universe:\n",
    "$[\\textbf{0}-\\varepsilon, \\textbf{1}-EOF, \\textbf{2}-a, \\textbf{3}-b, \\textbf{4}-A, \\textbf{5}-B ]$\n",
    "\n",
    "a. Represent the Bit Vector, b1(variable name), for the set {a, A}\n",
    "\n",
    "b. Given b2 = `[0,0,0,0,0,0]`. Find b3 = $b1 \\cap b2$ using bitwise operations\n",
    "\n",
    "c. Which set does b3 represent?\n",
    "\n"
   ]
  },
  {
   "cell_type": "markdown",
   "metadata": {
    "slideshow": {
     "slide_type": "subslide"
    }
   },
   "source": [
    "## Useless Symbols\n",
    "\n",
    "We need to eliminate useless symbols from our grammar.\n",
    "\n",
    "Steps:\n",
    "\n",
    "- Find generating symbols\n",
    "- Remove non generating rules\n",
    "- Determine Reachable Symbols"
   ]
  },
  {
   "cell_type": "markdown",
   "metadata": {
    "slideshow": {
     "slide_type": "subslide"
    }
   },
   "source": [
    "### Finding Generating Symbols( Example ) \n",
    "\n",
    "Grammer:\n",
    "\n",
    "$S \\rightarrow A B$\n",
    "\n",
    "$S \\rightarrow C$\n",
    "\n",
    "$C \\rightarrow c$\n",
    "\n",
    "$S \\rightarrow a$\n",
    "\n",
    "$A \\rightarrow a A$\n",
    "\n",
    "$B \\rightarrow b$\n",
    "\n",
    "\n",
    "Excercise:\n",
    "1. Create universe including $\\varepsilon$, terminals and non-terminals(initialize zeros)\n",
    "2. Set $\\varepsilon$ and terminals to True\n",
    "3. Iteratively set non-terminals to True if ALL of its productions are True (Base Case, last iterations are the same)\n"
   ]
  },
  {
   "cell_type": "markdown",
   "metadata": {
    "slideshow": {
     "slide_type": "subslide"
    }
   },
   "source": [
    "## Remove non generating rules\n",
    "\n",
    "Every rule that has non generating symbols is removed"
   ]
  },
  {
   "cell_type": "markdown",
   "metadata": {
    "slideshow": {
     "slide_type": "fragment"
    }
   },
   "source": [
    "$S \\rightarrow C$\n",
    "\n",
    "$C \\rightarrow c$\n",
    "\n",
    "$S \\rightarrow a$\n",
    "\n",
    "$B \\rightarrow b$"
   ]
  },
  {
   "cell_type": "markdown",
   "metadata": {
    "slideshow": {
     "slide_type": "subslide"
    }
   },
   "source": [
    "### Determining Reachable Symbols\n",
    "\n",
    "1. S is reachable\n",
    "2. $A_1, A_2,..., A_k$ are reachable if $B \\rightarrow A_1, A_2,..., A_k$ and B is reachable\n",
    "\n",
    "**Exercise:**\n",
    "Given:\n",
    "\n",
    "$S \\rightarrow C$\n",
    "\n",
    "$C \\rightarrow c$\n",
    "\n",
    "$S \\rightarrow a$\n",
    "\n",
    "$B \\rightarrow b$\n",
    "\n",
    "Use use the iterative process with the steps above to find reachable symbols.\n",
    "\n",
    "\n"
   ]
  },
  {
   "cell_type": "markdown",
   "metadata": {
    "slideshow": {
     "slide_type": "slide"
    }
   },
   "source": [
    "## Operator Precedence Parsing"
   ]
  },
  {
   "cell_type": "markdown",
   "metadata": {
    "slideshow": {
     "slide_type": "fragment"
    }
   },
   "source": [
    "### Operator Grammar\n",
    "Regular Grammar\n",
    "**except**:\n",
    "- Doesn't contain 2+ consecutive non-terminals\n",
    "- No eplison\n",
    "\n",
    "e.g.\n",
    "\n",
    "$S \\rightarrow A + B$\n",
    "\n",
    "$S \\rightarrow A\\text{ }B\\text{ }+$ ❌"
   ]
  },
  {
   "cell_type": "markdown",
   "metadata": {
    "slideshow": {
     "slide_type": "subslide"
    }
   },
   "source": [
    "### Operator Precedence\n",
    "\n",
    "Mathematics has different precedence for operators\n",
    "\n",
    "We apply the same priciple here.\n",
    "\n",
    "For formal definition we have:\n",
    "\n",
    "$\\prec$ - yields precedence\n",
    "\n",
    "$\\succ$ - succeeds (takes precendence)\n",
    "\n",
    "$\\doteq$ - same precedence\n",
    "\n",
    "e.g. \n",
    "$1+2\\times 3$\n",
    "\n",
    "$\\times \\succ +$"
   ]
  },
  {
   "cell_type": "markdown",
   "metadata": {
    "slideshow": {
     "slide_type": "subslide"
    }
   },
   "source": [
    "Pseudo code:\n",
    "\n",
    "```\n",
    "repeat \n",
    "    if $ is on top of the stack and lexer.peek() = $   // EOF\n",
    "        return;\n",
    "    else{\n",
    "        t = lexer.getToken(); \n",
    "        b= t.type;\n",
    "        a= stack.peek().type;\n",
    "        if a ≺∙b or a ≐b //   s h i f t\n",
    "            push t on stack\n",
    "        else if a ∙≻b //   r e d u c e\n",
    "        {\n",
    "            pop stack until stack.peek() ≺∙last popped terminal symbol\n",
    "            if “E -> popped symbols”  rule exists\n",
    "                reduce E -> popped symbols\n",
    "                push E\n",
    "            else syntax_error()\n",
    "        } else\n",
    "            syntax_error();\n",
    "    }\n",
    "```\n",
    "\n",
    "\n"
   ]
  },
  {
   "cell_type": "code",
   "execution_count": null,
   "metadata": {},
   "outputs": [],
   "source": []
  }
 ],
 "metadata": {
  "celltoolbar": "Slideshow",
  "kernelspec": {
   "display_name": "Python 3",
   "language": "python",
   "name": "python3"
  },
  "language_info": {
   "codemirror_mode": {
    "name": "ipython",
    "version": 3
   },
   "file_extension": ".py",
   "mimetype": "text/x-python",
   "name": "python",
   "nbconvert_exporter": "python",
   "pygments_lexer": "ipython3",
   "version": "3.7.4"
  }
 },
 "nbformat": 4,
 "nbformat_minor": 2
}
