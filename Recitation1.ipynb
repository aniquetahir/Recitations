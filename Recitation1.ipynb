{
 "cells": [
  {
   "cell_type": "markdown",
   "metadata": {
    "slideshow": {
     "slide_type": "slide"
    }
   },
   "source": [
    "# CSE 340: Principles of programming languages\n",
    "## Recitation 1\n",
    "---\n",
    "Attendance: https://bit.ly/2MgbHR4 or come to me to physically check attendance (Your choice)\n",
    "### Anique Tahir"
   ]
  },
  {
   "cell_type": "code",
   "execution_count": 2,
   "metadata": {
    "slideshow": {
     "slide_type": "skip"
    }
   },
   "outputs": [],
   "source": [
    "%load_ext hierarchymagic"
   ]
  },
  {
   "cell_type": "markdown",
   "metadata": {
    "slideshow": {
     "slide_type": "subslide"
    }
   },
   "source": [
    "## Outline\n",
    "- Compiling programs in Linux\n",
    "- Compiling and Executing code using CLI\n",
    "- Check expected Input/Produced Input\n",
    "- Redirecting Input/Output\n",
    "- Running scripts and checking your code\n",
    "- Parse Trees *\n",
    "- Recursive Descent Parsers *\n",
    "\n",
    "---\n",
    "\\* Includes a few exercises to get you familiar"
   ]
  },
  {
   "cell_type": "markdown",
   "metadata": {
    "slideshow": {
     "slide_type": "slide"
    }
   },
   "source": [
    "## Compiling on Linux\n",
    "\n",
    "You will be using Ubuntu 18.04/18.11 for this course\n",
    "\n",
    "If you use another OS, you can download/install a VM and test your code\n",
    "\n",
    "Recommendations:\n",
    "- VirtualBox\n",
    "- Vagrant (uses virtualbox)(comes with presets which make developing easier e.g. shared folders with host OS, ssh etc)\n",
    "- Docker (uses jail i.e. not really virtualization)\n",
    "\n",
    "Programming Languages: C/C++\n"
   ]
  },
  {
   "cell_type": "markdown",
   "metadata": {
    "slideshow": {
     "slide_type": "subslide"
    }
   },
   "source": [
    "### Installing the compilation software\n",
    "In the terminal enter the following command. \n",
    "\n",
    "```\n",
    "sudo apt install gcc g++\n",
    "```\n",
    "\n",
    "---\n",
    "Note: Most versions of ubuntu come with `gcc` and `g++` already installed\n"
   ]
  },
  {
   "cell_type": "markdown",
   "metadata": {
    "slideshow": {
     "slide_type": "slide"
    }
   },
   "source": [
    "### Compiling your code\n",
    "\n",
    "The `gcc` program compiles C code while the `g++` program compiles C++ code\n"
   ]
  },
  {
   "cell_type": "code",
   "execution_count": 4,
   "metadata": {
    "slideshow": {
     "slide_type": "subslide"
    }
   },
   "outputs": [
    {
     "name": "stdout",
     "output_type": "stream",
     "text": [
      ".idea\n",
      ".ipynb_checkpoints\n",
      ".vagrant\n",
      "Makefile\n",
      "README.md\n",
      "Recitation1.ipynb\n",
      "Recitation1.slides.html\n",
      "Vagrantfile\n",
      "a.out\n",
      "hello.cpp\n",
      "inputbuf.cc\n",
      "inputbuf.h\n",
      "lexer.cc\n",
      "lexer.h\n",
      "test1.sh\n",
      "tests\n",
      "ubuntu-bionic-18.04-cloudimg-console.log\n"
     ]
    }
   ],
   "source": [
    "%%bash\n",
    "ls"
   ]
  },
  {
   "cell_type": "code",
   "execution_count": 7,
   "metadata": {
    "slideshow": {
     "slide_type": "fragment"
    }
   },
   "outputs": [
    {
     "name": "stdout",
     "output_type": "stream",
     "text": [
      "//\n",
      "// Created by Anique on 1/14/19.\n",
      "//\n",
      "#include <iostream>\n",
      "\n",
      "using namespace std;\n",
      "\n",
      "int main(int argc, char** args){\n",
      "    cout<<\"Hello!\"<<endl;\n",
      "    return 0;\n",
      "}"
     ]
    }
   ],
   "source": [
    "%%bash\n",
    "cat hello.cpp"
   ]
  },
  {
   "cell_type": "code",
   "execution_count": 20,
   "metadata": {
    "slideshow": {
     "slide_type": "subslide"
    }
   },
   "outputs": [
    {
     "name": "stdout",
     "output_type": "stream",
     "text": [
      "==Compile the file into an executable==\n",
      "Makefile\n",
      "README.md\n",
      "Untitled.ipynb\n",
      "hello.cpp\n",
      "hello.o\n",
      "hello.out\n",
      "inputbuf.cc\n",
      "inputbuf.h\n",
      "lexer.cc\n",
      "lexer.h\n",
      "test1.sh\n",
      "==A new file is added to the list!==\n"
     ]
    }
   ],
   "source": [
    "%%bash\n",
    "echo '==Compile the file into an executable=='\n",
    "g++ hello.cpp -o hello.out\n",
    "ls\n",
    "echo '==A new file is added to the list!=='"
   ]
  },
  {
   "cell_type": "code",
   "execution_count": 18,
   "metadata": {
    "slideshow": {
     "slide_type": "subslide"
    }
   },
   "outputs": [
    {
     "name": "stdout",
     "output_type": "stream",
     "text": [
      "==Executing the new binary==\n",
      "Hello!\n"
     ]
    }
   ],
   "source": [
    "%%bash\n",
    "echo '==Executing the new binary=='\n",
    "./hello.out"
   ]
  },
  {
   "cell_type": "markdown",
   "metadata": {
    "slideshow": {
     "slide_type": "subslide"
    }
   },
   "source": [
    "### Makefile\n",
    "- Makefile allows you to specify a set of commands so you don't have to do stuff over and over again\n",
    "\n",
    "Simple Example:\n",
    "```\n",
    "hello.out: hello.cpp\n",
    "    g++ hello.cpp -o hello.out\n",
    "\n",
    "clean:\n",
    "    rm -f *.out\n",
    "```\n",
    "\n",
    "Running:\n",
    "```\n",
    "make hello.out\n",
    "```\n",
    "\n",
    "Cleaning up your folder:\n",
    "```\n",
    "make clean\n",
    "```"
   ]
  },
  {
   "cell_type": "markdown",
   "metadata": {
    "slideshow": {
     "slide_type": "subslide"
    }
   },
   "source": [
    "### Compiling Multiple Files\n",
    "\n",
    "#### Compile\n",
    "```\n",
    "g++ -c file1.cpp file2.cpp file3.cpp\n",
    "```\n",
    "\n",
    "#### Link\n",
    "```\n",
    "g++ file1.o file2.o file3.o -o program.out\n",
    "```\n",
    "\n",
    "#### One line\n",
    "```\n",
    "g++ file1.cpp file2.cpp file3.cpp -o program.out\n",
    "```\n"
   ]
  },
  {
   "cell_type": "markdown",
   "metadata": {
    "slideshow": {
     "slide_type": "slide"
    }
   },
   "source": [
    "## Redirecting Input/Output\n",
    "\n",
    "We can redirect input and output from the command line.\n",
    "\n",
    "The `<` and `>` characters are used in bash to redirect IO streams\n",
    "\n",
    "### Examples\n",
    "```\n",
    "./a.out < input.txt\n",
    "```\n",
    "Here the `input.txt` is used as an input stream rather than the Terminal\n",
    "\n",
    "```\n",
    "./a.out > output.txt\n",
    "```\n",
    "The output produced by `a.out` is written into output.txt rather than being displayed in the Terminal. Another useful operator is `>>` for appending instead of overwriting the file.\n",
    "\n",
    "```\n",
    "./a.out < input_data.txt > output_file.txt\n",
    "```\n",
    "\n",
    "`|` can be used to pipe input and output\n",
    "```\n",
    "./get_input.out | ./a.out\n",
    "```\n"
   ]
  },
  {
   "cell_type": "markdown",
   "metadata": {
    "slideshow": {
     "slide_type": "slide"
    }
   },
   "source": [
    "## Testing your output\n",
    "There's a shell script provided to you to test your code. You might be provided with test cases\n",
    "\n",
    "```\n",
    "./test.sh\n",
    "```\n",
    "\n",
    "- Test cases are stored in the `tests` directory. The expected output and given output are matched by a diff.\n",
    "- Make sure you don't output comments\n",
    "- Shell scripts require execution permissions:\n",
    "```\n",
    "sudo chmod +x test.sh\n",
    "```\n",
    "\n",
    "\n",
    "\n"
   ]
  },
  {
   "cell_type": "markdown",
   "metadata": {
    "slideshow": {
     "slide_type": "slide"
    }
   },
   "source": [
    "## Parse Trees\n",
    "\n",
    "### Questions?"
   ]
  },
  {
   "cell_type": "markdown",
   "metadata": {
    "slideshow": {
     "slide_type": "subslide"
    }
   },
   "source": [
    "### Example\n",
    "```\n",
    "S -> aAb | aSb\n",
    "\n",
    "A -> ab | 𝛆\n",
    "```\n",
    "\n",
    "\n",
    "How do you prove the Grammer is ambiguous?"
   ]
  },
  {
   "cell_type": "markdown",
   "metadata": {
    "slideshow": {
     "slide_type": "fragment"
    }
   },
   "source": [
    "*ambiguous grammers have multiple parse trees*\n",
    "\n",
    "=> provide an example input and two different parse trees which work"
   ]
  },
  {
   "cell_type": "markdown",
   "metadata": {
    "slideshow": {
     "slide_type": "subslide"
    }
   },
   "source": [
    "#### Example:\n",
    "\n",
    "INPUT: aabb"
   ]
  },
  {
   "cell_type": "code",
   "execution_count": 2,
   "metadata": {
    "slideshow": {
     "slide_type": "fragment"
    }
   },
   "outputs": [
    {
     "data": {
      "image/png": "[encoded data removed]"
     },
     "metadata": {},
     "output_type": "display_data"
    }
   ],
   "source": [
    "%%dot\n",
    "digraph G {\n",
    "    node1 [label=\"a\"];\n",
    "    node2 [label=\"b\"];\n",
    "    S -> a;\n",
    "    S -> A;\n",
    "    S -> b;\n",
    "    A -> node1;\n",
    "    A -> node2;\n",
    "    \n",
    "}"
   ]
  },
  {
   "cell_type": "code",
   "execution_count": 3,
   "metadata": {
    "slideshow": {
     "slide_type": "subslide"
    }
   },
   "outputs": [
    {
     "data": {
      "image/png": "[encoded data removed]"
     },
     "metadata": {},
     "output_type": "display_data"
    }
   ],
   "source": [
    "%%dot\n",
    "digraph G {\n",
    "    node1 [label=\"a\"];\n",
    "    node2 [label=\"b\"];\n",
    "    node3 [label=\"S\", ordering=out];\n",
    "    S [ordering=out];\n",
    "    S -> a ;\n",
    "    S -> node3;\n",
    "    S -> b ;\n",
    "    node3 -> node1;\n",
    "    node3 -> A;\n",
    "    node3 -> node2;\n",
    "    A -> 𝛆;\n",
    "}"
   ]
  },
  {
   "cell_type": "markdown",
   "metadata": {
    "slideshow": {
     "slide_type": "subslide"
    }
   },
   "source": [
    "### Leftmost and Rightmost derivations\n",
    "\n",
    "Given the Grammar:\n",
    "```\n",
    "S -> AB\n",
    "\n",
    "A -> abS | 𝛆\n",
    "\n",
    "B -> abS | 𝛆\n",
    "```\n",
    "\n",
    "INPUT: `abab`\n",
    "\n",
    "**What is the leftmost derivation?**\n"
   ]
  },
  {
   "cell_type": "markdown",
   "metadata": {
    "slideshow": {
     "slide_type": "fragment"
    }
   },
   "source": [
    "S -> AB -> abSB -> abABB -> ababSBB -> ababABBB -> ... -> abab "
   ]
  },
  {
   "cell_type": "markdown",
   "metadata": {
    "slideshow": {
     "slide_type": "fragment"
    }
   },
   "source": [
    "**What is the rightmost derivation?**"
   ]
  },
  {
   "cell_type": "markdown",
   "metadata": {
    "slideshow": {
     "slide_type": "fragment"
    }
   },
   "source": [
    "S -> AB -> AabS -> AabAB -> AabAabS -> ... -> abab"
   ]
  },
  {
   "cell_type": "markdown",
   "metadata": {
    "slideshow": {
     "slide_type": "slide"
    }
   },
   "source": [
    "## Recursive Descent Parsers\n",
    "\n",
    "The job of the recursive descent parser is to tell whether an input is gramatically valid\n",
    "\n",
    "Given the Grammar:\n",
    "```\n",
    "S -> A|B|c\n",
    "\n",
    "A -> aS\n",
    "\n",
    "B -> bS\n",
    "```\n",
    "\n",
    "INPUT: `ababc`\n",
    "\n",
    "**What does getToken return?**\n",
    "1. `A`?\n",
    "2. `a`?\n",
    "3. `{lexeme: \"\", token_type: a, line: 1}`\n",
    "\n",
    "**Write the code for parseS(assume parseA, parseB, (un)getToken, etc are available)**\n"
   ]
  },
  {
   "cell_type": "markdown",
   "metadata": {
    "slideshow": {
     "slide_type": "subslide"
    }
   },
   "source": [
    "```\n",
    "parseS(){\n",
    "    token t = getToken()\n",
    "    if (t.token_type=a){\n",
    "        ungetToken();\n",
    "        parseA();\n",
    "    }else if(t.token_type=b){\n",
    "        ungetToken();\n",
    "        parseB();\n",
    "    }else if(t.token_type=c){\n",
    "        return;\n",
    "    }else{\n",
    "        SyntaxError();\n",
    "    }\n",
    "}\n",
    "```"
   ]
  },
  {
   "cell_type": "markdown",
   "metadata": {
    "slideshow": {
     "slide_type": "subslide"
    }
   },
   "source": [
    "### Dry Run\n",
    "INPUT: ababc\n",
    "\n",
    "| input  | function | t         | scope  |\n",
    "|--------|----------|-----------|--------|\n",
    "| ^ababc | getToken |           | parseS |\n",
    "| a^babc |          | {..,a,..} | parseS |\n",
    "| a^babc | parseA   | {..,a,..} | parseS |\n",
    "| a^babc | getToken |           | parseA |\n",
    "| ab^abc |          | {..,b,..} | parseA |\n",
    "\n",
    "Syntax Error! \n",
    "A does not start with `b`"
   ]
  },
  {
   "cell_type": "markdown",
   "metadata": {
    "slideshow": {
     "slide_type": "fragment"
    }
   },
   "source": [
    "**unget token is not called!**"
   ]
  },
  {
   "cell_type": "markdown",
   "metadata": {
    "slideshow": {
     "slide_type": "slide"
    }
   },
   "source": [
    "# Questions?"
   ]
  }
 ],
 "metadata": {
  "celltoolbar": "Slideshow",
  "kernelspec": {
   "display_name": "Python 3",
   "language": "python",
   "name": "python3"
  },
  "language_info": {
   "codemirror_mode": {
    "name": "ipython",
    "version": 3
   },
   "file_extension": ".py",
   "mimetype": "text/x-python",
   "name": "python",
   "nbconvert_exporter": "python",
   "pygments_lexer": "ipython3",
   "version": "3.6.5"
  }
 },
 "nbformat": 4,
 "nbformat_minor": 2
}
