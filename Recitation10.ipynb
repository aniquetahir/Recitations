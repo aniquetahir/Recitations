{
 "cells": [
  {
   "cell_type": "markdown",
   "metadata": {
    "slideshow": {
     "slide_type": "slide"
    }
   },
   "source": [
    "# Recitation 10\n",
    "---\n",
    "Anique Tahir"
   ]
  },
  {
   "cell_type": "markdown",
   "metadata": {
    "slideshow": {
     "slide_type": "subslide"
    }
   },
   "source": [
    "## Outline\n",
    "- Box and Circle Diagrams\n",
    "- l-values and r-values\n",
    "- Assignment and Pointer Semantics\n"
   ]
  },
  {
   "cell_type": "markdown",
   "metadata": {
    "slideshow": {
     "slide_type": "slide"
    }
   },
   "source": [
    "## Box and Circle Diagram\n",
    "![](boxcircle.png)"
   ]
  },
  {
   "cell_type": "markdown",
   "metadata": {
    "slideshow": {
     "slide_type": "slide"
    }
   },
   "source": [
    "## Copy Semantics\n",
    "```\n",
    "x=y\n",
    "```\n",
    "```\n",
    "x=5\n",
    "```\n",
    "\n"
   ]
  },
  {
   "cell_type": "markdown",
   "metadata": {
    "slideshow": {
     "slide_type": "subslide"
    }
   },
   "source": [
    "Copy the value in the location associated with y to the location associated with x\n",
    "\n",
    "Copy the value 5 to the location associated with x"
   ]
  },
  {
   "cell_type": "markdown",
   "metadata": {
    "slideshow": {
     "slide_type": "slide"
    }
   },
   "source": [
    "## l-values\n",
    "- Values which have a location associated with them\n",
    "\n",
    "e.g.\n",
    "\n",
    "x, x[i]\n"
   ]
  },
  {
   "cell_type": "markdown",
   "metadata": {
    "slideshow": {
     "slide_type": "slide"
    }
   },
   "source": [
    "## r-values\n",
    "- Values which do not have a location association\n",
    "\n",
    "e.g.\n",
    "\n",
    "5, x+y, foo(), foo() + 5\n"
   ]
  },
  {
   "cell_type": "markdown",
   "metadata": {
    "slideshow": {
     "slide_type": "slide"
    }
   },
   "source": [
    "## l-value and r-value assignments\n",
    "l-value = l-value\n",
    "\n",
    "l-value = r-value\n",
    "\n",
    "r-value = l-value ❌\n",
    "\n",
    "r-value = r-value ❌"
   ]
  },
  {
   "cell_type": "code",
   "execution_count": 2,
   "metadata": {},
   "outputs": [],
   "source": [
    "%load_ext hierarchymagic"
   ]
  },
  {
   "cell_type": "code",
   "execution_count": 28,
   "metadata": {
    "slideshow": {
     "slide_type": "slide"
    }
   },
   "outputs": [
    {
     "data": {
      "image/png": "[encoded data removed]"
     },
     "metadata": {},
     "output_type": "display_data"
    }
   ],
   "source": [
    "%%dot\n",
    "digraph D {\n",
    "    compound=true;\n",
    "    subgraph cluster1 {\n",
    "      e[label=\"0xaa\"];\n",
    "    } \n",
    "    x->e [lhead=cluster1, arrowhead=none];\n",
    "} "
   ]
  },
  {
   "cell_type": "markdown",
   "metadata": {
    "slideshow": {
     "slide_type": "slide"
    }
   },
   "source": [
    "## Pointer Semantics\n",
    "\n",
    "```\n",
    "T * x;\n",
    "```\n",
    "x is a **pointer** to a T value\n",
    "\n",
    "```\n",
    "T ** x;\n",
    "```\n",
    "x is a pointer to a T* value\n",
    "\n",
    "x is a pointer to a pointer to a T value"
   ]
  },
  {
   "cell_type": "markdown",
   "metadata": {
    "slideshow": {
     "slide_type": "slide"
    }
   },
   "source": [
    "## malloc\n",
    "\n",
    "Used to assign space on the heap\n",
    "\n",
    "```\n",
    "T * x = (T *) malloc(sizeof T)\n",
    "```\n",
    "\n",
    "Output of malloc is an R-Value"
   ]
  },
  {
   "cell_type": "markdown",
   "metadata": {
    "slideshow": {
     "slide_type": "slide"
    }
   },
   "source": [
    "## Address Operator (&)\n",
    "\n",
    "- Operand: l-value\n",
    "- Output: r-value\n",
    "\n"
   ]
  },
  {
   "cell_type": "markdown",
   "metadata": {
    "slideshow": {
     "slide_type": "slide"
    }
   },
   "source": [
    "## Dereference Operator (*)\n",
    "- Operand: l-value or r-value\n",
    "- Result: l-value"
   ]
  },
  {
   "cell_type": "markdown",
   "metadata": {
    "slideshow": {
     "slide_type": "slide"
    }
   },
   "source": [
    "## &/* Example (From Typed Notes)\n",
    "```\n",
    "int x;\n",
    "int* y;\n",
    "\n",
    "y = &x; \n",
    "\n",
    "y = &*y;\n",
    "\n",
    "y = *&y;\n",
    "\n",
    "x = 1;\n",
    "\n",
    "y = (int*) malloc(sizeof(int));\n",
    "\n",
    "*y = x;\n",
    "```\n"
   ]
  },
  {
   "cell_type": "markdown",
   "metadata": {
    "slideshow": {
     "slide_type": "slide"
    }
   },
   "source": [
    "## Structs\n",
    "- The members of a structs are located in contiguous areas of memory\n",
    "```\n",
    "struct{\n",
    "    int i, j; \n",
    "} x;\n",
    "```"
   ]
  },
  {
   "cell_type": "markdown",
   "metadata": {
    "slideshow": {
     "slide_type": "slide"
    }
   },
   "source": [
    "## Arrays\n",
    "Arrays are just like pointers\n",
    "```\n",
    "int x[]\n",
    "```\n",
    "Similar to\n",
    "```\n",
    "int* x\n",
    "```\n",
    "\n",
    "Pointers and arrays can be used interchangably\n",
    "```\n",
    "*(x+y)\n",
    "```\n",
    "and \n",
    "```\n",
    "x[y]\n",
    "```\n",
    "are the same"
   ]
  },
  {
   "cell_type": "markdown",
   "metadata": {
    "slideshow": {
     "slide_type": "slide"
    }
   },
   "source": [
    "## Pointers and Structs\n",
    "```\n",
    "struct st{\n",
    "    inti; \n",
    "    struct st* next; \n",
    "} * x;\n",
    "```\n"
   ]
  },
  {
   "cell_type": "markdown",
   "metadata": {
    "slideshow": {
     "slide_type": "slide"
    }
   },
   "source": [
    "## Aliases\n",
    "```\n",
    "Two expressions are aliases of each other if they have the same location associated with them.\n",
    "```\n",
    "-Typed Notes\n",
    "\n",
    "Categories of aliases:\n",
    "- pointers\n",
    "- arrays\n",
    "- pass by reference\n",
    "- assignment with reference\n"
   ]
  },
  {
   "cell_type": "markdown",
   "metadata": {
    "slideshow": {
     "slide_type": "slide"
    }
   },
   "source": [
    "## Dangling References\n",
    "- When memory related to a variable is freed but some variable points to that part of memory"
   ]
  },
  {
   "cell_type": "markdown",
   "metadata": {
    "slideshow": {
     "slide_type": "slide"
    }
   },
   "source": [
    "## Garbage Values\n",
    "- When memory has been allocated for some value but it is never freed"
   ]
  },
  {
   "cell_type": "markdown",
   "metadata": {
    "slideshow": {
     "slide_type": "slide"
    }
   },
   "source": [
    "## Exercise \n",
    "What is the difference between Dangling References and Garbage Values?\n"
   ]
  },
  {
   "cell_type": "markdown",
   "metadata": {
    "slideshow": {
     "slide_type": "slide"
    }
   },
   "source": [
    "# Questions"
   ]
  },
  {
   "cell_type": "markdown",
   "metadata": {},
   "source": []
  }
 ],
 "metadata": {
  "celltoolbar": "Slideshow",
  "kernelspec": {
   "display_name": "Python 3",
   "language": "python",
   "name": "python3"
  },
  "language_info": {
   "codemirror_mode": {
    "name": "ipython",
    "version": 3
   },
   "file_extension": ".py",
   "mimetype": "text/x-python",
   "name": "python",
   "nbconvert_exporter": "python",
   "pygments_lexer": "ipython3",
   "version": "3.6.5"
  }
 },
 "nbformat": 4,
 "nbformat_minor": 2
}
