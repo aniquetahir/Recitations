{
 "cells": [
  {
   "cell_type": "markdown",
   "metadata": {
    "slideshow": {
     "slide_type": "slide"
    }
   },
   "source": [
    "# Recitation 3 (CSE 340)\n",
    "---\n",
    "Anique Tahir"
   ]
  },
  {
   "cell_type": "markdown",
   "metadata": {
    "slideshow": {
     "slide_type": "subslide"
    }
   },
   "source": [
    "## Outline\n",
    "- Predictive Parsing\n",
    "- First Set Algorithm\n",
    "- Follow Set Algorithm"
   ]
  },
  {
   "cell_type": "markdown",
   "metadata": {
    "slideshow": {
     "slide_type": "slide"
    }
   },
   "source": [
    "## Predictive Parsing\n",
    "- We use first and follow sets to decrease the time complexity of our algorithm\n",
    "- Given $S \\rightarrow A_1 \\vert A_2 \\vert ... \\vert A_k$\n",
    "    - $First(A_1) \\cap First(A_2) \\cap ... \\cap First(A_k) \\not = \\emptyset$"
   ]
  },
  {
   "cell_type": "markdown",
   "metadata": {
    "slideshow": {
     "slide_type": "fragment"
    }
   },
   "source": [
    "e.g.\n",
    "\n",
    "$S \\rightarrow A|B$\n",
    "\n",
    "$A \\rightarrow aa$\n",
    "\n",
    "$B \\rightarrow ab$\n",
    "\n",
    "\n",
    "\n"
   ]
  },
  {
   "cell_type": "markdown",
   "metadata": {
    "slideshow": {
     "slide_type": "subslide"
    }
   },
   "source": [
    "- Given:\n",
    "\n",
    "    $A \\rightarrow \\alpha \\vert ... \\vert \\varepsilon$\n",
    "    \n",
    "    $First(A) \\cap Follow(A) \\not = \\emptyset$"
   ]
  },
  {
   "cell_type": "markdown",
   "metadata": {
    "slideshow": {
     "slide_type": "fragment"
    }
   },
   "source": [
    "e.g.\n",
    "\n",
    "$S \\rightarrow AB$\n",
    "\n",
    "$A \\rightarrow a \\vert \\varepsilon$\n",
    "\n",
    "$B \\rightarrow ab$\n"
   ]
  },
  {
   "cell_type": "markdown",
   "metadata": {
    "slideshow": {
     "slide_type": "slide"
    }
   },
   "source": [
    "## Motivation\n",
    "\n",
    "- It is easy to think about First/Follow sets\n",
    "- In order to automate the task, we need to create an Algorithm"
   ]
  },
  {
   "cell_type": "markdown",
   "metadata": {
    "slideshow": {
     "slide_type": "slide"
    }
   },
   "source": [
    "## First Set Algorithm\n",
    "**I.** $FIRST(a) = \\{ a \\}$ for every terminal `a`\n",
    "\n",
    "**II.** $FIRST(\\varepsilon) = \\{\\varepsilon\\}$\n",
    "\n",
    "**III.** If $A \\rightarrow X \\alpha$ is a grammar rule, add $FIRST(X) –\\{\\varepsilon\\}$  to $FIRST(A)$\n",
    "\n",
    "**IV.** If  $A \\rightarrow A_1 A_2 ... A_i A_{i+1} ... A_k$ is a grammar rule and $\\varepsilon \\in FIRST(A_1)$ and $\\varepsilon \\in FIRST(A_2)$  .... and $\\varepsilon \\in FIRST(A_i)$,add $FIRST(A_{i+1}) -\\{\\varepsilon\\}$ to $FIRST(A)$\n",
    "\n",
    "**V.** If $A \\rightarrow A_1 A_2 ... A_k$ is a grammar rule and $\\varepsilon \\in FIRST(A_1)$ and $\\varepsilon \\in FIRST(A_2)$  .... and $\\varepsilon \\in FIRST(A_k)$, add $\\varepsilon$ to $FIRST(A)$"
   ]
  },
  {
   "cell_type": "markdown",
   "metadata": {
    "slideshow": {
     "slide_type": "subslide"
    }
   },
   "source": [
    "### First Set Algorithm example\n",
    "\n",
    "**Grammer:** \n",
    "\n",
    "$S \\rightarrow ABCD$ ⭐️\n",
    "$A \\rightarrow CD \\vert aA$ ⭐️\n",
    "$B \\rightarrow b$ ⭐️\n",
    "$C \\rightarrow cC \\vert \\varepsilon$ ⭐️\n",
    "$D \\rightarrow dD \\vert \\varepsilon$\n",
    "\n",
    "\n",
    "    "
   ]
  },
  {
   "cell_type": "markdown",
   "metadata": {
    "slideshow": {
     "slide_type": "fragment"
    }
   },
   "source": [
    "| First(S) |          |            |            |            |            |\n",
    "|----------|----------|------------|------------|------------|------------|\n",
    "| First(A) |          |            |            |            |            |\n",
    "| First(B) |          |            |            |            |            |\n",
    "| First(C) |          |            |            |            |            |\n",
    "| First(D) |          |            |            |            |            |"
   ]
  },
  {
   "cell_type": "markdown",
   "metadata": {
    "slideshow": {
     "slide_type": "subslide"
    }
   },
   "source": [
    "**Grammer:** \n",
    "\n",
    "$S \\rightarrow ABCD$ ⭐️\n",
    "$A \\rightarrow CD \\vert aA$ ⭐️\n",
    "$B \\rightarrow b$ ⭐️\n",
    "$C \\rightarrow cC \\vert \\varepsilon$ ⭐️\n",
    "$D \\rightarrow dD \\vert \\varepsilon$\n",
    "\n",
    "| First(S) |{}        |            |            |            |            |\n",
    "|----------|----------|------------|------------|------------|------------|\n",
    "| First(A) |{}        |            |            |            |            |\n",
    "| First(B) |{}        |            |            |            |            |\n",
    "| First(C) |{}        |            |            |            |            |\n",
    "| First(D) |{}        |            |            |            |            |\n"
   ]
  },
  {
   "cell_type": "markdown",
   "metadata": {
    "slideshow": {
     "slide_type": "subslide"
    }
   },
   "source": [
    "**Grammer:** \n",
    "\n",
    "$S \\rightarrow ABCD$ ⭐️\n",
    "$A \\rightarrow CD \\vert aA$ ⭐️\n",
    "$B \\rightarrow b$ ⭐️\n",
    "$C \\rightarrow cC \\vert \\varepsilon$ ⭐️\n",
    "$D \\rightarrow dD \\vert \\varepsilon$\n",
    "\n",
    "| First(S) |{}        |{}          |            |            |            |\n",
    "|----------|----------|------------|------------|------------|------------|\n",
    "| First(A) |{}        |$\\{a\\}$|            |            |            |\n",
    "| First(B) |{}        |$\\{b\\}$|            |            |            |\n",
    "| First(C) |{}        |$\\{c, \\varepsilon\\}$|            |            |            |\n",
    "| First(D) |{}        |$\\{d, \\varepsilon\\}$|            |            |            |"
   ]
  },
  {
   "cell_type": "markdown",
   "metadata": {
    "slideshow": {
     "slide_type": "subslide"
    }
   },
   "source": [
    "**Grammer:** \n",
    "\n",
    "$S \\rightarrow ABCD$ ⭐️\n",
    "$A \\rightarrow CD \\vert aA$ ⭐️\n",
    "$B \\rightarrow b$ ⭐️\n",
    "$C \\rightarrow cC \\vert \\varepsilon$ ⭐️\n",
    "$D \\rightarrow dD \\vert \\varepsilon$\n",
    "\n",
    "| First(S) |{}        |{}                  |{a}                       |                |               |\n",
    "|----------|----------|--------------------|--------------------------|----------------|--------------------------|\n",
    "| First(A) |{}        |$\\{a\\}$             ||                ||\n",
    "| First(B) |{}        |$\\{b\\}$             ||                ||\n",
    "| First(C) |{}        |$\\{c, \\varepsilon\\}$||                ||\n",
    "| First(D) |{}        |$\\{d, \\varepsilon\\}$||                ||"
   ]
  },
  {
   "cell_type": "markdown",
   "metadata": {
    "slideshow": {
     "slide_type": "subslide"
    }
   },
   "source": [
    "**Grammer:** \n",
    "\n",
    "$S \\rightarrow ABCD$ ⭐️\n",
    "$A \\rightarrow CD \\vert aA$ ⭐️\n",
    "$B \\rightarrow b$ ⭐️\n",
    "$C \\rightarrow cC \\vert \\varepsilon$ ⭐️\n",
    "$D \\rightarrow dD \\vert \\varepsilon$\n",
    "\n",
    "| First(S) |{}        |{}                  |{a}                       |                |               |\n",
    "|----------|----------|--------------------|--------------------------|----------------|--------------------------|\n",
    "| First(A) |{}        |$\\{a\\}$             |$\\{a, c, d, \\varepsilon\\}$|                ||\n",
    "| First(B) |{}        |$\\{b\\}$             ||                | |\n",
    "| First(C) |{}        |$\\{c, \\varepsilon\\}$||                | |\n",
    "| First(D) |{}        |$\\{d, \\varepsilon\\}$||                | |"
   ]
  },
  {
   "cell_type": "markdown",
   "metadata": {
    "slideshow": {
     "slide_type": "subslide"
    }
   },
   "source": [
    "**Grammer:** \n",
    "\n",
    "$S \\rightarrow ABCD$ ⭐️\n",
    "$A \\rightarrow CD \\vert aA$ ⭐️\n",
    "$B \\rightarrow b$ ⭐️\n",
    "$C \\rightarrow cC \\vert \\varepsilon$ ⭐️\n",
    "$D \\rightarrow dD \\vert \\varepsilon$\n",
    "\n",
    "| First(S) |{}        |{}                  |{a}                       |                |               |\n",
    "|----------|----------|--------------------|--------------------------|----------------|--------------------------|\n",
    "| First(A) |{}        |$\\{a\\}$             |$\\{a, c, d, \\varepsilon\\}$|                ||\n",
    "| First(B) |{}        |$\\{b\\}$             |$\\{b\\}$                   |                ||\n",
    "| First(C) |{}        |$\\{c, \\varepsilon\\}$|    |                ||\n",
    "| First(D) |{}        |$\\{d, \\varepsilon\\}$|    |                ||"
   ]
  },
  {
   "cell_type": "markdown",
   "metadata": {
    "slideshow": {
     "slide_type": "subslide"
    }
   },
   "source": [
    "**Grammer:** \n",
    "\n",
    "$S \\rightarrow ABCD$ ⭐️\n",
    "$A \\rightarrow CD \\vert aA$ ⭐️\n",
    "$B \\rightarrow b$ ⭐️\n",
    "$C \\rightarrow cC \\vert \\varepsilon$ ⭐️\n",
    "$D \\rightarrow dD \\vert \\varepsilon$\n",
    "\n",
    "| First(S) |{}        |{}                  |{a}                       |                |                |\n",
    "|----------|----------|--------------------|--------------------------|----------------|--------------------------|\n",
    "| First(A) |{}        |$\\{a\\}$             |$\\{a, c, d, \\varepsilon\\}$|                ||\n",
    "| First(B) |{}        |$\\{b\\}$             |$\\{b\\}$                   |                ||\n",
    "| First(C) |{}        |$\\{c, \\varepsilon\\}$|$\\{c, \\varepsilon\\}$      |                ||\n",
    "| First(D) |{}        |$\\{d, \\varepsilon\\}$|    |                ||"
   ]
  },
  {
   "cell_type": "markdown",
   "metadata": {
    "slideshow": {
     "slide_type": "subslide"
    }
   },
   "source": [
    "**Grammer:** \n",
    "\n",
    "$S \\rightarrow ABCD$ ⭐️\n",
    "$A \\rightarrow CD \\vert aA$ ⭐️\n",
    "$B \\rightarrow b$ ⭐️\n",
    "$C \\rightarrow cC \\vert \\varepsilon$ ⭐️\n",
    "$D \\rightarrow dD \\vert \\varepsilon$\n",
    "\n",
    "| First(S) |{}        |{}                  |{a}                       |                |               |\n",
    "|----------|----------|--------------------|--------------------------|----------------|--------------------------|\n",
    "| First(A) |{}        |$\\{a\\}$             |$\\{a, c, d, \\varepsilon\\}$|                ||\n",
    "| First(B) |{}        |$\\{b\\}$             |$\\{b\\}$                   |                ||\n",
    "| First(C) |{}        |$\\{c, \\varepsilon\\}$|$\\{c, \\varepsilon\\}$      |                ||\n",
    "| First(D) |{}        |$\\{d, \\varepsilon\\}$|$\\{d, \\varepsilon\\}$      |                ||"
   ]
  },
  {
   "cell_type": "markdown",
   "metadata": {
    "slideshow": {
     "slide_type": "subslide"
    }
   },
   "source": [
    "**Grammer:** \n",
    "\n",
    "$S \\rightarrow ABCD$ ⭐️\n",
    "$A \\rightarrow CD \\vert aA$ ⭐️\n",
    "$B \\rightarrow b$ ⭐️\n",
    "$C \\rightarrow cC \\vert \\varepsilon$ ⭐️\n",
    "$D \\rightarrow dD \\vert \\varepsilon$\n",
    "\n",
    "| First(S) |{}        |{}                  |{a}                       |{a,c,d,b}                 | |\n",
    "|----------|----------|--------------------|--------------------------|--------------------------|-|\n",
    "| First(A) |{}        |$\\{a\\}$             |$\\{a, c, d, \\varepsilon\\}$|| |\n",
    "| First(B) |{}        |$\\{b\\}$             |$\\{b\\}$                   || |\n",
    "| First(C) |{}        |$\\{c, \\varepsilon\\}$|$\\{c, \\varepsilon\\}$      || |\n",
    "| First(D) |{}        |$\\{d, \\varepsilon\\}$|$\\{d, \\varepsilon\\}$      || |"
   ]
  },
  {
   "cell_type": "markdown",
   "metadata": {
    "slideshow": {
     "slide_type": "subslide"
    }
   },
   "source": [
    "**Grammer:** \n",
    "\n",
    "$S \\rightarrow ABCD$ ⭐️\n",
    "$A \\rightarrow CD \\vert aA$ ⭐️\n",
    "$B \\rightarrow b$ ⭐️\n",
    "$C \\rightarrow cC \\vert \\varepsilon$ ⭐️\n",
    "$D \\rightarrow dD \\vert \\varepsilon$\n",
    "\n",
    "| First(S) |{}        |{}                  |{a}                       |{a,c,d,b}                 | |\n",
    "|----------|----------|--------------------|--------------------------|--------------------------|-|\n",
    "| First(A) |{}        |$\\{a\\}$             |$\\{a, c, d, \\varepsilon\\}$|$\\{a, c, d, \\varepsilon\\}$| |\n",
    "| First(B) |{}        |$\\{b\\}$             |$\\{b\\}$                   || |\n",
    "| First(C) |{}        |$\\{c, \\varepsilon\\}$|$\\{c, \\varepsilon\\}$      || |\n",
    "| First(D) |{}        |$\\{d, \\varepsilon\\}$|$\\{d, \\varepsilon\\}$      || |"
   ]
  },
  {
   "cell_type": "markdown",
   "metadata": {
    "slideshow": {
     "slide_type": "subslide"
    }
   },
   "source": [
    "**Grammer:** \n",
    "\n",
    "$S \\rightarrow ABCD$ ⭐️\n",
    "$A \\rightarrow CD \\vert aA$ ⭐️\n",
    "$B \\rightarrow b$ ⭐️\n",
    "$C \\rightarrow cC \\vert \\varepsilon$ ⭐️\n",
    "$D \\rightarrow dD \\vert \\varepsilon$\n",
    "\n",
    "| First(S) |{}        |{}                  |{a}                       |{a,c,d,b}                 | |\n",
    "|----------|----------|--------------------|--------------------------|--------------------------|-|\n",
    "| First(A) |{}        |$\\{a\\}$             |$\\{a, c, d, \\varepsilon\\}$|$\\{a, c, d, \\varepsilon\\}$| |\n",
    "| First(B) |{}        |$\\{b\\}$             |$\\{b\\}$                   |$\\{b\\}$                   | |\n",
    "| First(C) |{}        |$\\{c, \\varepsilon\\}$|$\\{c, \\varepsilon\\}$      || |\n",
    "| First(D) |{}        |$\\{d, \\varepsilon\\}$|$\\{d, \\varepsilon\\}$      || |"
   ]
  },
  {
   "cell_type": "markdown",
   "metadata": {
    "slideshow": {
     "slide_type": "subslide"
    }
   },
   "source": [
    "**Grammer:** \n",
    "\n",
    "$S \\rightarrow ABCD$ ⭐️\n",
    "$A \\rightarrow CD \\vert aA$ ⭐️\n",
    "$B \\rightarrow b$ ⭐️\n",
    "$C \\rightarrow cC \\vert \\varepsilon$ ⭐️\n",
    "$D \\rightarrow dD \\vert \\varepsilon$\n",
    "\n",
    "| First(S) |{}        |{}                  |{a}                       |{a,c,d,b}                 | |\n",
    "|----------|----------|--------------------|--------------------------|--------------------------|-|\n",
    "| First(A) |{}        |$\\{a\\}$             |$\\{a, c, d, \\varepsilon\\}$|$\\{a, c, d, \\varepsilon\\}$| |\n",
    "| First(B) |{}        |$\\{b\\}$             |$\\{b\\}$                   |$\\{b\\}$                   | |\n",
    "| First(C) |{}        |$\\{c, \\varepsilon\\}$|$\\{c, \\varepsilon\\}$      |$\\{c, \\varepsilon\\}$      | |\n",
    "| First(D) |{}        |$\\{d, \\varepsilon\\}$|$\\{d, \\varepsilon\\}$      || |"
   ]
  },
  {
   "cell_type": "markdown",
   "metadata": {
    "slideshow": {
     "slide_type": "subslide"
    }
   },
   "source": [
    "**Grammer:** \n",
    "\n",
    "$S \\rightarrow ABCD$ ⭐️\n",
    "$A \\rightarrow CD \\vert aA$ ⭐️\n",
    "$B \\rightarrow b$ ⭐️\n",
    "$C \\rightarrow cC \\vert \\varepsilon$ ⭐️\n",
    "$D \\rightarrow dD \\vert \\varepsilon$\n",
    "\n",
    "| First(S) |{}        |{}                  |{a}                       |{a,c,d,b}                 | |\n",
    "|----------|----------|--------------------|--------------------------|--------------------------|-|\n",
    "| First(A) |{}        |$\\{a\\}$             |$\\{a, c, d, \\varepsilon\\}$|$\\{a, c, d, \\varepsilon\\}$| |\n",
    "| First(B) |{}        |$\\{b\\}$             |$\\{b\\}$                   |$\\{b\\}$                   | |\n",
    "| First(C) |{}        |$\\{c, \\varepsilon\\}$|$\\{c, \\varepsilon\\}$      |$\\{c, \\varepsilon\\}$      | |\n",
    "| First(D) |{}        |$\\{d, \\varepsilon\\}$|$\\{d, \\varepsilon\\}$      |$\\{d, \\varepsilon\\}$      | |"
   ]
  },
  {
   "cell_type": "markdown",
   "metadata": {
    "slideshow": {
     "slide_type": "subslide"
    }
   },
   "source": [
    "**Grammer:** \n",
    "\n",
    "$S \\rightarrow ABCD$ ⭐️\n",
    "$A \\rightarrow CD \\vert aA$ ⭐️\n",
    "$B \\rightarrow b$ ⭐️\n",
    "$C \\rightarrow cC \\vert \\varepsilon$ ⭐️\n",
    "$D \\rightarrow dD \\vert \\varepsilon$\n",
    "\n",
    "| First(S) |{}        |{}                  |{a}                       |{a,c,d,b}                 |{a,c,d,b}                 |\n",
    "|----------|----------|--------------------|--------------------------|--------------------------|--------------------------|\n",
    "| First(A) |{}        |$\\{a\\}$             |$\\{a, c, d, \\varepsilon\\}$|$\\{a, c, d, \\varepsilon\\}$|$\\{a, c, d, \\varepsilon\\}$|\n",
    "| First(B) |{}        |$\\{b\\}$             |$\\{b\\}$                   |$\\{b\\}$                   |$\\{b\\}$                   |\n",
    "| First(C) |{}        |$\\{c, \\varepsilon\\}$|$\\{c, \\varepsilon\\}$      |$\\{c, \\varepsilon\\}$      |$\\{c, \\varepsilon\\}$      |\n",
    "| First(D) |{}        |$\\{d, \\varepsilon\\}$|$\\{d, \\varepsilon\\}$      |$\\{d, \\varepsilon\\}$      |$\\{d, \\varepsilon\\}$      |"
   ]
  },
  {
   "cell_type": "markdown",
   "metadata": {
    "slideshow": {
     "slide_type": "slide"
    }
   },
   "source": [
    "\n",
    "![follow](./follow1.png)\n"
   ]
  },
  {
   "cell_type": "markdown",
   "metadata": {
    "slideshow": {
     "slide_type": "subslide"
    }
   },
   "source": [
    "![](./follow2.png)"
   ]
  },
  {
   "cell_type": "markdown",
   "metadata": {
    "slideshow": {
     "slide_type": "subslide"
    }
   },
   "source": [
    "## Exercise\n",
    "**Grammer:** \n",
    "\n",
    "$S \\rightarrow ABCD$ \n",
    "\n",
    "$A \\rightarrow CD \\vert aA$ \n",
    "\n",
    "$B \\rightarrow b$ \n",
    "\n",
    "$C \\rightarrow cC \\vert \\varepsilon$ \n",
    "\n",
    "$D \\rightarrow dD \\vert \\varepsilon$\n",
    "\n",
    "Compute the Follow Set's for this grammar"
   ]
  },
  {
   "cell_type": "markdown",
   "metadata": {
    "slideshow": {
     "slide_type": "slide"
    }
   },
   "source": [
    "# Questions"
   ]
  },
  {
   "cell_type": "code",
   "execution_count": null,
   "metadata": {},
   "outputs": [],
   "source": []
  }
 ],
 "metadata": {
  "celltoolbar": "Slideshow",
  "kernelspec": {
   "display_name": "Python 3",
   "language": "python",
   "name": "python3"
  },
  "language_info": {
   "codemirror_mode": {
    "name": "ipython",
    "version": 3
   },
   "file_extension": ".py",
   "mimetype": "text/x-python",
   "name": "python",
   "nbconvert_exporter": "python",
   "pygments_lexer": "ipython3",
   "version": "3.6.5"
  }
 },
 "nbformat": 4,
 "nbformat_minor": 2
}
