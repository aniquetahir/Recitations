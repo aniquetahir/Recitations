{
 "cells": [
  {
   "cell_type": "markdown",
   "metadata": {
    "slideshow": {
     "slide_type": "slide"
    }
   },
   "source": [
    "# CSE 340: Principles of programming languages\n",
    "## Recitation 2\n",
    "---\n",
    "Attendance\n",
    "### Anique Tahir"
   ]
  },
  {
   "cell_type": "markdown",
   "metadata": {
    "slideshow": {
     "slide_type": "slide"
    }
   },
   "source": [
    "## First and Follow Set\n",
    "\n",
    "### First Sets:\n",
    "The set of **terminals** that a rule can **start** with\n",
    "\n",
    "### Follow Sets:\n",
    "The set **terminals** that follow a rule\n",
    "\n"
   ]
  },
  {
   "cell_type": "markdown",
   "metadata": {
    "slideshow": {
     "slide_type": "fragment"
    }
   },
   "source": [
    "**Exceptions:**\n",
    "\n",
    "$\\varepsilon$ represents empty string\n",
    "\n",
    "$ represents end of file\n",
    "\n"
   ]
  },
  {
   "cell_type": "markdown",
   "metadata": {
    "slideshow": {
     "slide_type": "slide"
    }
   },
   "source": [
    "## First Set Example\n",
    "Grammar:"
   ]
  },
  {
   "cell_type": "code",
   "execution_count": 48,
   "metadata": {
    "slideshow": {
     "slide_type": "fragment"
    }
   },
   "outputs": [
    {
     "data": {
      "text/latex": [
       "\\begin{align*}\n",
       "S &\\rightarrow A \\mid B \\mid C \\\\\n",
       "A &\\rightarrow a \\\\\n",
       "B &\\rightarrow Bb \\mid b \\\\\n",
       "C &\\rightarrow Cc \\mid \\varepsilon \\\\\n",
       "\\end{align*}"
      ],
      "text/plain": [
       "<IPython.core.display.Latex object>"
      ]
     },
     "metadata": {},
     "output_type": "display_data"
    }
   ],
   "source": [
    "%%latex\n",
    "\\begin{align*}\n",
    "S &\\rightarrow A \\mid B \\mid C \\\\\n",
    "A &\\rightarrow a \\\\\n",
    "B &\\rightarrow Bb \\mid b \\\\\n",
    "C &\\rightarrow Cc \\mid \\varepsilon \\\\\n",
    "\\end{align*}\n"
   ]
  },
  {
   "cell_type": "markdown",
   "metadata": {
    "slideshow": {
     "slide_type": "fragment"
    }
   },
   "source": [
    "What is the First(A), First(C)?"
   ]
  },
  {
   "cell_type": "markdown",
   "metadata": {
    "slideshow": {
     "slide_type": "fragment"
    }
   },
   "source": [
    "First(A) = {$a$}, First(C) = {c, $\\varepsilon$}"
   ]
  },
  {
   "cell_type": "markdown",
   "metadata": {
    "slideshow": {
     "slide_type": "slide"
    }
   },
   "source": [
    "## Follow Set Example\n",
    "Grammar:"
   ]
  },
  {
   "cell_type": "code",
   "execution_count": 47,
   "metadata": {
    "slideshow": {
     "slide_type": "fragment"
    }
   },
   "outputs": [
    {
     "data": {
      "text/latex": [
       "\\begin{align*}\n",
       "S &\\rightarrow A \\mid B \\mid C \\\\\n",
       "A &\\rightarrow a \\\\\n",
       "B &\\rightarrow Bb \\mid b \\\\\n",
       "C &\\rightarrow Cc \\mid \\varepsilon \\\\\n",
       "\\end{align*}"
      ],
      "text/plain": [
       "<IPython.core.display.Latex object>"
      ]
     },
     "metadata": {},
     "output_type": "display_data"
    }
   ],
   "source": [
    "%%latex\n",
    "\\begin{align*}\n",
    "S &\\rightarrow A \\mid B \\mid C \\\\\n",
    "A &\\rightarrow a \\\\\n",
    "B &\\rightarrow Bb \\mid b \\\\\n",
    "C &\\rightarrow Cc \\mid \\varepsilon \\\\\n",
    "\\end{align*}"
   ]
  },
  {
   "cell_type": "markdown",
   "metadata": {
    "slideshow": {
     "slide_type": "fragment"
    }
   },
   "source": [
    "What is the Follow(A), Follow(B), First(C)?"
   ]
  },
  {
   "cell_type": "markdown",
   "metadata": {
    "slideshow": {
     "slide_type": "fragment"
    }
   },
   "source": [
    "Follow(A) = {\\$}, Follow(B) = {$b$, \\$}, Follow(C) = {$c$, \\$}"
   ]
  },
  {
   "cell_type": "markdown",
   "metadata": {
    "slideshow": {
     "slide_type": "slide"
    }
   },
   "source": [
    "## Project\n",
    "\n",
    "### How to solve the project:\n",
    "- Create a recursive decent parser"
   ]
  },
  {
   "cell_type": "markdown",
   "metadata": {
    "slideshow": {
     "slide_type": "fragment"
    }
   },
   "source": [
    "- Create an intermediate representation of the parsed code"
   ]
  },
  {
   "cell_type": "markdown",
   "metadata": {
    "slideshow": {
     "slide_type": "fragment"
    }
   },
   "source": [
    "- Execute the code with the help of intermediate representation"
   ]
  },
  {
   "cell_type": "markdown",
   "metadata": {
    "slideshow": {
     "slide_type": "subslide"
    }
   },
   "source": [
    "### Excercise\n",
    "$S \\rightarrow STMT\\_LIST$\n",
    "\n",
    "$STMT\\_LIST \\rightarrow EXPR\\text{ }; \\mid EXPR\\text{ ; }STMT\\_LIST$\n",
    "\n",
    "$EXPR \\rightarrow NUM\\text{ }MOD\\text{ }NUM$\n",
    "\n",
    "\n",
    "`NUM` is an integer\n",
    "\n",
    "`MOD` is the operator `%`\n",
    "\n",
    "**Write a recursive descent parser for EXPR. Also print out LHS and RHS in the parse function**"
   ]
  },
  {
   "cell_type": "markdown",
   "metadata": {
    "slideshow": {
     "slide_type": "fragment"
    }
   },
   "source": [
    "```C++\n",
    "void parse_EXPR(){\n",
    "    Token t = lexer.GetToken();\n",
    "    if(t.token_type == NUM){\n",
    "        int lhs = atoi(t.lexeme);\n",
    "        t = lexer.GetToken();\n",
    "        if(...){\n",
    "            t = lexer.GetToken();\n",
    "            if(t.token_type == NUM){\n",
    "                int rhs = atoi(t.lexeme);\n",
    "                return;\n",
    "            }\n",
    "        }\n",
    "    }\n",
    "    throw SyntaxError;\n",
    "}\n",
    "```"
   ]
  },
  {
   "cell_type": "markdown",
   "metadata": {
    "slideshow": {
     "slide_type": "slide"
    }
   },
   "source": [
    "### Intermediate Representation Example\n",
    "\n",
    "**How would `EXPR` be written in intermediate form?**\n"
   ]
  },
  {
   "cell_type": "markdown",
   "metadata": {
    "slideshow": {
     "slide_type": "fragment"
    }
   },
   "source": [
    "```C++\n",
    "struct {\n",
    "    int lhs;\n",
    "    int rhs;\n",
    "} EXPR;\n",
    "```\n",
    "\n",
    "**Write `void execute(EXPR exp)`**\n",
    "\n",
    "(This would print out a % b)"
   ]
  },
  {
   "cell_type": "markdown",
   "metadata": {
    "slideshow": {
     "slide_type": "subslide"
    }
   },
   "source": [
    "```C++\n",
    "void execute(EXPR exp){\n",
    "    printf(exp.lhs%exp.rhs);\n",
    "}\n",
    "```"
   ]
  },
  {
   "cell_type": "markdown",
   "metadata": {
    "slideshow": {
     "slide_type": "slide"
    }
   },
   "source": [
    "# Questions?"
   ]
  },
  {
   "cell_type": "code",
   "execution_count": null,
   "metadata": {},
   "outputs": [],
   "source": []
  }
 ],
 "metadata": {
  "celltoolbar": "Slideshow",
  "kernelspec": {
   "display_name": "Python 3",
   "language": "python",
   "name": "python3"
  },
  "language_info": {
   "codemirror_mode": {
    "name": "ipython",
    "version": 3
   },
   "file_extension": ".py",
   "mimetype": "text/x-python",
   "name": "python",
   "nbconvert_exporter": "python",
   "pygments_lexer": "ipython3",
   "version": "3.7.4"
  }
 },
 "nbformat": 4,
 "nbformat_minor": 2
}
