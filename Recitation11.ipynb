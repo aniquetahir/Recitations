{
 "cells": [
  {
   "cell_type": "markdown",
   "metadata": {
    "slideshow": {
     "slide_type": "slide"
    }
   },
   "source": [
    "# Recitation 11\n",
    "---\n",
    "Anique Tahir"
   ]
  },
  {
   "cell_type": "markdown",
   "metadata": {
    "slideshow": {
     "slide_type": "subslide"
    }
   },
   "source": [
    "## Outline\n",
    "- Hindley Milner Type Inference\n",
    "- Exam Review\n"
   ]
  },
  {
   "cell_type": "markdown",
   "metadata": {
    "slideshow": {
     "slide_type": "slide"
    }
   },
   "source": [
    "## Notation for operations\n",
    "We will be using OCaml notation for Hilney Milner Type Inference\n",
    "\n",
    "- Arrays are represented as a.(i)\n",
    "- \\+ operator only works on `int`'s\n",
    "- \\+. represents float addition\n",
    "- < and > take operands of type int, real, string, and functions\n"
   ]
  },
  {
   "cell_type": "markdown",
   "metadata": {
    "slideshow": {
     "slide_type": "slide"
    }
   },
   "source": [
    "## OCaml Type Inference Examples\n",
    "\n",
    "```OCaml\n",
    "let f x y = x (y+1);;\n",
    "```\n",
    "\n",
    "```OCaml\n",
    "let max x y = if x>y then x else y;;\n",
    "```"
   ]
  },
  {
   "cell_type": "code",
   "execution_count": 4,
   "metadata": {
    "slideshow": {
     "slide_type": "-"
    }
   },
   "outputs": [],
   "source": [
    "%load_ext hierarchymagic\n"
   ]
  },
  {
   "cell_type": "code",
   "execution_count": 15,
   "metadata": {
    "slideshow": {
     "slide_type": "fragment"
    }
   },
   "outputs": [
    {
     "data": {
      "image/png": "[encoded data removed]"
     },
     "metadata": {},
     "output_type": "display_data"
    }
   ],
   "source": [
    "%%dot\n",
    "digraph D {\n",
    "    apply[shape=none]\n",
    "    x[shape=none]\n",
    "    plus[shape=none, label=\"+\"]\n",
    "    y[shape=none]\n",
    "    one[shape=none, label=\"1\"]\n",
    "    \n",
    "    apply->x;\n",
    "    apply->plus;\n",
    "    plus->y;\n",
    "    plus->one;\n",
    "}"
   ]
  },
  {
   "cell_type": "markdown",
   "metadata": {
    "slideshow": {
     "slide_type": "slide"
    }
   },
   "source": [
    "## Hilney Milner Algorithm\n",
    "\n",
    "- Create an Abstract Syntax Tree\n",
    "- Associate with each named variable a type\n",
    "- Associate with each node of the AST a type\n",
    "- Resolve the types of each node using constraints"
   ]
  },
  {
   "cell_type": "markdown",
   "metadata": {
    "slideshow": {
     "slide_type": "fragment"
    }
   },
   "source": [
    "## Example\n",
    "```OCaml\n",
    "let f x y g = if g x y then x else y;;\n",
    "```"
   ]
  },
  {
   "cell_type": "markdown",
   "metadata": {
    "slideshow": {
     "slide_type": "slide"
    }
   },
   "source": [
    "## Exercise\n",
    "**Problem 1**\n",
    "\n",
    "Given\n",
    "```OCaml\n",
    "let f x y = if  x ( x y ) then 1 else 2\n",
    "```\n",
    "\n",
    "**Problem 2**\n",
    "\n",
    "Given\n",
    "\n",
    "```OCaml\n",
    "let f x y = x (x y)\n",
    "```\n",
    "\n",
    "Use Hilney Milner Type inference to resolve the Types"
   ]
  },
  {
   "cell_type": "markdown",
   "metadata": {
    "slideshow": {
     "slide_type": "slide"
    }
   },
   "source": [
    "## Exam Questions Review\n",
    "```\n",
    "The term fls FIRST FOLLOW where FIRST and FOLLOW are two terms evaluates to\n",
    "\n",
    "a. FIRST\n",
    "b. FOLLOW\n",
    "c. EOF\n",
    "d. Ɛ\n",
    "e. none of the above\n",
    "```\n",
    "\n",
    "```\n",
    "The term 3(times 2)(fst(pair 2 3)) evaluates to \n",
    "\n",
    "a. 2\n",
    "b. 4\n",
    "c. 6\n",
    "d. 16\n",
    "e. 18\n",
    "```"
   ]
  },
  {
   "cell_type": "markdown",
   "metadata": {
    "slideshow": {
     "slide_type": "slide"
    }
   },
   "source": [
    "# Questions(Contd)\n",
    "Given\n",
    "\n",
    "$\\lambda$x. ($\\lambda$y. ($\\lambda$z. z) y) x  ( x ($\\lambda$w. w ) x )\n",
    "\n",
    "In normal order evaluation, the term above reduces in one step to\n",
    "\n",
    "a.($\\lambda$y. ($\\lambda$z. z) x)  (x ($\\lambda$w. w ) x )\n",
    "\n",
    "b. $\\lambda$x. ($\\lambda$y. ($\\lambda$z. z) y) x   (x  x )\n",
    "\n",
    "c. $\\lambda$x.(($\\lambda$x. x) x) (x ($\\lambda$w. w ) x )\n",
    "\n",
    "d. $\\lambda$x.(($\\lambda$z. z) x) (x ($\\lambda$w. w ) x )\n",
    "\n",
    "e. cannot be reduced\n"
   ]
  },
  {
   "cell_type": "markdown",
   "metadata": {
    "slideshow": {
     "slide_type": "slide"
    }
   },
   "source": [
    "Given\n",
    "\n",
    "$\\lambda$x. ($\\lambda$y. ($\\lambda$z. z) y) x  ( x ($\\lambda$w. w ) x )\n",
    "\n",
    "In call by value, the term above reduces in one step to\n",
    "\n",
    "a.($\\lambda$y. ($\\lambda$z. z) x)  (x ($\\lambda$w. w ) x )\n",
    "\n",
    "b. $\\lambda$x. ($\\lambda$y. ($\\lambda$z. z) y) x  (x x )\n",
    "\n",
    "c. $\\lambda$x.(($\\lambda$x. x) x) (x ($\\lambda$w. w ) x )\n",
    "\n",
    "d. $\\lambda$x.(($\\lambda$z. z) x) (x ($\\lambda$w. w ) x )\n",
    "\n",
    "e. cannot be reduced"
   ]
  },
  {
   "cell_type": "markdown",
   "metadata": {
    "slideshow": {
     "slide_type": "slide"
    }
   },
   "source": [
    "```\n",
    "The expression 3(plus 2) 3\n",
    "evaluates to\n",
    "\n",
    "a. 8\n",
    "b. 9 \n",
    "c. 3 5\n",
    "d. 5 3\n",
    "e. none of the above\n",
    "```\n",
    "```\n",
    "The expression scc2 (times 3) 2 \n",
    "evaluates to\n",
    "\n",
    "a. 18\n",
    "b. 27\n",
    "c. 54\n",
    "d. 19\n",
    "e. none of the above\n",
    "```"
   ]
  },
  {
   "cell_type": "markdown",
   "metadata": {
    "slideshow": {
     "slide_type": "slide"
    }
   },
   "source": [
    "init= pair 0 0\n",
    "\n",
    "next1 = $\\lambda$p. times (scc(sndp)) (scc(sndp))\n",
    "\n",
    "next2 = $\\lambda$p. pair (next1 p) (scc(sndp))\n",
    "\n",
    "mystery = $\\lambda$n. n next2 init\n",
    "\n",
    "What does the mystery function calculate  when applied to a Church numeral?"
   ]
  },
  {
   "cell_type": "markdown",
   "metadata": {
    "slideshow": {
     "slide_type": "skip"
    }
   },
   "source": []
  }
 ],
 "metadata": {
  "celltoolbar": "Slideshow",
  "kernelspec": {
   "display_name": "Python 3",
   "language": "python",
   "name": "python3"
  },
  "language_info": {
   "codemirror_mode": {
    "name": "ipython",
    "version": 3
   },
   "file_extension": ".py",
   "mimetype": "text/x-python",
   "name": "python",
   "nbconvert_exporter": "python",
   "pygments_lexer": "ipython3",
   "version": "3.6.5"
  }
 },
 "nbformat": 4,
 "nbformat_minor": 2
}
