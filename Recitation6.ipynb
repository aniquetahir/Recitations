{
 "cells": [
  {
   "cell_type": "markdown",
   "metadata": {
    "slideshow": {
     "slide_type": "slide"
    }
   },
   "source": [
    "# Recitation 6\n",
    "---\n",
    "Anique Tahir"
   ]
  },
  {
   "cell_type": "markdown",
   "metadata": {
    "slideshow": {
     "slide_type": "subslide"
    }
   },
   "source": [
    "## Outline\n",
    "\n",
    "- Lamba Calculus (Pt. 2)\n",
    "- Project 2"
   ]
  },
  {
   "cell_type": "markdown",
   "metadata": {
    "slideshow": {
     "slide_type": "slide"
    }
   },
   "source": [
    "## Lambda Calculus (Pt. 2)\n",
    "\n",
    "### Lambda Calculus Grammar\n",
    "$t \\rightarrow x $\n",
    "\n",
    "$t \\rightarrow \\lambda x.t$\n",
    "\n",
    "$t \\rightarrow t t$\n",
    "\n",
    "$t \\rightarrow ( t )$\n"
   ]
  },
  {
   "cell_type": "markdown",
   "metadata": {
    "slideshow": {
     "slide_type": "fragment"
    }
   },
   "source": [
    "### Previous Recitation\n",
    "```\n",
    "fn plus_one(x):\n",
    "    return x+1\n",
    "```\n",
    "$\\lambda x. x + 1$"
   ]
  },
  {
   "cell_type": "markdown",
   "metadata": {
    "slideshow": {
     "slide_type": "fragment"
    }
   },
   "source": [
    "'+' is not defined in the lambda calculus grammer"
   ]
  },
  {
   "cell_type": "markdown",
   "metadata": {
    "slideshow": {
     "slide_type": "subslide"
    }
   },
   "source": [
    "## Defining Mathematical Operators \n",
    "- We define a set of 'axioms' in the form of Lambda Functions\n",
    "- We reuse our low level lambda functions to create higher level functions"
   ]
  },
  {
   "cell_type": "markdown",
   "metadata": {
    "slideshow": {
     "slide_type": "slide"
    }
   },
   "source": [
    "## Church's Booleans\n",
    "Lambda functions defining boolean conditions\n",
    "\n",
    "### C++ If using Ternery Operator \n",
    "Without ternary operators:\n",
    "```C++\n",
    "boolean b;\n",
    "if(x<y){\n",
    "    b=True;\n",
    "}else{\n",
    "    b=False;\n",
    "}\n",
    "```"
   ]
  },
  {
   "cell_type": "markdown",
   "metadata": {
    "slideshow": {
     "slide_type": "fragment"
    }
   },
   "source": [
    "With ternary operators:\n",
    "```C++\n",
    "boolean b = x<y ? True : False;\n",
    "```"
   ]
  },
  {
   "cell_type": "markdown",
   "metadata": {
    "slideshow": {
     "slide_type": "subslide"
    }
   },
   "source": [
    "## Church's Booleans (Contd)\n",
    "\n",
    "We want to create 2 functions `tru` and `fls`"
   ]
  },
  {
   "cell_type": "code",
   "execution_count": 8,
   "metadata": {
    "slideshow": {
     "slide_type": "fragment"
    }
   },
   "outputs": [
    {
     "data": {
      "text/latex": [
       "  \\begin{equation}\n",
       "    test\\ a\\ b\\ c=\n",
       "    \\begin{cases}\n",
       "      b, & \\text{if}\\ a=tru \\\\\n",
       "      c, & \\text{if}\\ a=fls\n",
       "    \\end{cases}\n",
       "  \\end{equation}"
      ],
      "text/plain": [
       "<IPython.core.display.Latex object>"
      ]
     },
     "metadata": {},
     "output_type": "display_data"
    }
   ],
   "source": [
    "%%latex\n",
    "  \\begin{equation}\n",
    "    test\\ a\\ b\\ c=\n",
    "    \\begin{cases}\n",
    "      b, & \\text{if}\\ a=tru \\\\\n",
    "      c, & \\text{if}\\ a=fls\n",
    "    \\end{cases}\n",
    "  \\end{equation}"
   ]
  },
  {
   "cell_type": "markdown",
   "metadata": {
    "slideshow": {
     "slide_type": "subslide"
    }
   },
   "source": [
    "## tru\n",
    "\n",
    "- Function that takes 2 parameters\n",
    "- Returns the first argument\n"
   ]
  },
  {
   "cell_type": "markdown",
   "metadata": {
    "slideshow": {
     "slide_type": "fragment"
    }
   },
   "source": [
    "$\\lambda x. \\lambda y. x$"
   ]
  },
  {
   "cell_type": "markdown",
   "metadata": {
    "slideshow": {
     "slide_type": "subslide"
    }
   },
   "source": [
    "## fls\n",
    "- Function that takes in two arguments\n",
    "- Returns the second argument"
   ]
  },
  {
   "cell_type": "markdown",
   "metadata": {
    "slideshow": {
     "slide_type": "fragment"
    }
   },
   "source": [
    "$\\lambda x.\\lambda y. y$"
   ]
  },
  {
   "cell_type": "markdown",
   "metadata": {
    "slideshow": {
     "slide_type": "subslide"
    }
   },
   "source": [
    "## Exercise \n",
    "$tru = \\lambda x. \\lambda y. x$\n",
    "\n",
    "$fls = \\lambda x.\\lambda y. y$\n",
    "\n",
    "1. Apply Beta Reduction on `tru b c`\n",
    "2. Apply Beta Reduction on `fls b c`\n"
   ]
  },
  {
   "cell_type": "markdown",
   "metadata": {
    "slideshow": {
     "slide_type": "slide"
    }
   },
   "source": [
    "## And Operator(Boolean)\n",
    "- Only works when both the inputs are true\n",
    "- In every other case returns false\n",
    "---\n",
    "- tru returns the first parameter\n",
    "- fls returns the second parameter\n",
    "    - second argument to tru can be false \n",
    "    - second argument to fls should always be false"
   ]
  },
  {
   "cell_type": "markdown",
   "metadata": {
    "slideshow": {
     "slide_type": "fragment"
    }
   },
   "source": [
    "$\\lambda x. \\lambda y. x\\ y\\ \\textbf{fls}$"
   ]
  },
  {
   "cell_type": "markdown",
   "metadata": {
    "slideshow": {
     "slide_type": "subslide"
    }
   },
   "source": [
    "## Dry Run (And)(Beta Reduction)\n",
    "\n",
    "$and = \\lambda x. \\lambda y. x\\ y\\ \\textbf{fls}$\n",
    "\n",
    "$and\\ tru\\ tru = (\\lambda x. \\lambda y. x\\ y\\ \\textbf{fls})\\ tru\\ tru$\n"
   ]
  },
  {
   "cell_type": "markdown",
   "metadata": {
    "slideshow": {
     "slide_type": "fragment"
    }
   },
   "source": [
    "$=((\\lambda x. \\lambda y. x\\ y\\ \\textbf{fls})\\ tru)\\ tru$"
   ]
  },
  {
   "cell_type": "markdown",
   "metadata": {
    "slideshow": {
     "slide_type": "fragment"
    }
   },
   "source": [
    "$=(\\lambda y. \\textbf{tru}\\ y\\ \\textbf{fls})\\ tru$"
   ]
  },
  {
   "cell_type": "markdown",
   "metadata": {
    "slideshow": {
     "slide_type": "fragment"
    }
   },
   "source": [
    "$=tru\\ tru\\ fls$"
   ]
  },
  {
   "cell_type": "markdown",
   "metadata": {
    "slideshow": {
     "slide_type": "subslide"
    }
   },
   "source": [
    "## tru tru fls\n",
    "$tru = \\lambda x. \\lambda y. x$\n",
    "\n",
    "=> $tru\\ tru\\ fls = (\\lambda x. \\lambda y. x)\\ tru\\ fls$"
   ]
  },
  {
   "cell_type": "markdown",
   "metadata": {
    "slideshow": {
     "slide_type": "fragment"
    }
   },
   "source": [
    "$=((\\lambda x. \\lambda y. x)\\ tru)\\ fls$"
   ]
  },
  {
   "cell_type": "markdown",
   "metadata": {
    "slideshow": {
     "slide_type": "fragment"
    }
   },
   "source": [
    "$=(\\lambda y. tru)\\ fls$\n",
    "\n",
    "$=tru$"
   ]
  },
  {
   "cell_type": "markdown",
   "metadata": {
    "slideshow": {
     "slide_type": "subslide"
    }
   },
   "source": [
    "## Exercise\n",
    "Given\n",
    "\n",
    "$and = \\lambda x. \\lambda y. x\\ y\\ \\textbf{fls}$\n",
    "\n",
    "$tru = \\lambda x. \\lambda y. x$\n",
    "\n",
    "$fls = \\lambda x. \\lambda y. y$\n",
    "\n",
    "1. Find and tru fls\n",
    "2. Find and fls fls"
   ]
  },
  {
   "cell_type": "markdown",
   "metadata": {
    "slideshow": {
     "slide_type": "slide"
    }
   },
   "source": [
    "## Or operator(boolean)\n",
    "- If first operand is tru return tru\n",
    "- If first operand is fls return second operand \n"
   ]
  },
  {
   "cell_type": "markdown",
   "metadata": {
    "slideshow": {
     "slide_type": "fragment"
    }
   },
   "source": [
    "$\\lambda x. \\lambda y. x\\ tru\\ y$"
   ]
  },
  {
   "cell_type": "markdown",
   "metadata": {
    "slideshow": {
     "slide_type": "subslide"
    }
   },
   "source": [
    "## Exercise\n",
    "Given\n",
    "\n",
    "$or = \\lambda x. \\lambda y. x\\ tru\\ y$\n",
    "\n",
    "$tru = \\lambda x. \\lambda y. x$\n",
    "\n",
    "$fls = \\lambda x. \\lambda y. y$\n",
    "\n",
    "Find `or false true` using beta reduction\n",
    "\n"
   ]
  },
  {
   "cell_type": "markdown",
   "metadata": {
    "slideshow": {
     "slide_type": "subslide"
    }
   },
   "source": [
    "## Pair, Fst and Snd\n",
    "Python code\n",
    "```python\n",
    "pair = lambda f,s,b:b(f,s)\n",
    "tru = lambda x,y:x\n",
    "fls = lambda x,y:y\n",
    "first = lambda p,x,y:p(x,y,tru)\n",
    "second = lambda p,x,y:p(x,y,fls)\n",
    "```\n",
    "\n"
   ]
  },
  {
   "cell_type": "code",
   "execution_count": 20,
   "metadata": {
    "slideshow": {
     "slide_type": "subslide"
    }
   },
   "outputs": [],
   "source": [
    "pair = lambda f,s,b:b(f,s)\n",
    "tru = lambda x,y:x\n",
    "fls = lambda x,y:y\n",
    "first = lambda p,x,y:p(x,y,tru)\n",
    "second = lambda p,x,y:p(x,y,fls)"
   ]
  },
  {
   "cell_type": "code",
   "execution_count": 21,
   "metadata": {
    "slideshow": {
     "slide_type": "fragment"
    }
   },
   "outputs": [
    {
     "data": {
      "text/plain": [
       "1"
      ]
     },
     "execution_count": 21,
     "metadata": {},
     "output_type": "execute_result"
    }
   ],
   "source": [
    "first(pair,1,2)"
   ]
  },
  {
   "cell_type": "code",
   "execution_count": 22,
   "metadata": {
    "slideshow": {
     "slide_type": "fragment"
    }
   },
   "outputs": [
    {
     "data": {
      "text/plain": [
       "2"
      ]
     },
     "execution_count": 22,
     "metadata": {},
     "output_type": "execute_result"
    }
   ],
   "source": [
    "second(pair,1,2)"
   ]
  },
  {
   "cell_type": "markdown",
   "metadata": {
    "slideshow": {
     "slide_type": "subslide"
    }
   },
   "source": [
    "Python code\n",
    "```python\n",
    "pair = lambda f,s,b:b(f,s)\n",
    "tru = lambda x,y:x\n",
    "fls = lambda x,y:y\n",
    "first = lambda p,x,y:p(x,y,tru)\n",
    "second = lambda p,x,y:p(x,y,fls)\n",
    "```\n",
    "Lambda Calculus:\n",
    "\n",
    "$pair = \\lambda f. \\lambda s. \\lambda b. b\\ f\\ s$\n",
    "\n",
    "$first = \\lambda p. p\\ tru$\n",
    "\n",
    "$second = \\lambda p. p\\ fls$\n",
    "\n"
   ]
  },
  {
   "cell_type": "markdown",
   "metadata": {
    "slideshow": {
     "slide_type": "subslide"
    }
   },
   "source": [
    "## Pair, Fst, Snd(Contd)\n",
    "$pair\\ v\\ w = (\\lambda f. \\lambda s. \\lambda b. b\\ f\\ s)\\ v\\ w$\n",
    "\n",
    "$= \\lambda b. b \\ v\\ w$\n"
   ]
  },
  {
   "cell_type": "markdown",
   "metadata": {
    "slideshow": {
     "slide_type": "fragment"
    }
   },
   "source": [
    "$fst(pair\\ v\\ w) = fst(\\lambda b. b \\ v\\ w)$"
   ]
  },
  {
   "cell_type": "markdown",
   "metadata": {
    "slideshow": {
     "slide_type": "fragment"
    }
   },
   "source": [
    "$=(\\lambda p. p\\ tru)(\\lambda b. b \\ v\\ w)$\n"
   ]
  },
  {
   "cell_type": "markdown",
   "metadata": {
    "slideshow": {
     "slide_type": "fragment"
    }
   },
   "source": [
    "$=(\\lambda b. b \\ v\\ w)\\ tru$"
   ]
  },
  {
   "cell_type": "markdown",
   "metadata": {
    "slideshow": {
     "slide_type": "fragment"
    }
   },
   "source": [
    "$=tru \\ v\\ w$"
   ]
  },
  {
   "cell_type": "markdown",
   "metadata": {
    "slideshow": {
     "slide_type": "fragment"
    }
   },
   "source": [
    "$=v$"
   ]
  },
  {
   "cell_type": "markdown",
   "metadata": {
    "slideshow": {
     "slide_type": "subslide"
    }
   },
   "source": [
    "## Exercise\n",
    "Given\n",
    "\n",
    "$pair = \\lambda f. \\lambda s. \\lambda b. b\\ f\\ s$\n",
    "\n",
    "$first = \\lambda p. p\\ tru$\n",
    "\n",
    "$second = \\lambda p. p\\ fls$\n",
    "\n",
    "$tru = \\lambda x. \\lambda y. x$\n",
    "\n",
    "$fls = \\lambda x. \\lambda y. y$\n",
    "\n",
    "Beta Reduce `second (pair j k)`\n"
   ]
  },
  {
   "cell_type": "markdown",
   "metadata": {
    "slideshow": {
     "slide_type": "slide"
    }
   },
   "source": [
    "## Project 2\n",
    "\n",
    "There is a difference between program arguments and program input\n",
    "\n",
    "e.g.\n",
    "```\n",
    "./a.out 1 < input.txt\n",
    "```\n",
    "`1` is the argument to the program \n",
    "\n",
    "`input.txt` is the input\n",
    "\n",
    "\n"
   ]
  },
  {
   "cell_type": "markdown",
   "metadata": {
    "slideshow": {
     "slide_type": "subslide"
    }
   },
   "source": [
    "\n",
    "## Finding Terminals and Non Terminals\n",
    "\n",
    "Step 1: Keep track of ALL the symbols in a bit array/vector\n",
    "\n",
    "Step 1.5: Keep track of ALL the non terminals (LHS of rules) in a bit array/vector\n",
    "\n",
    "Step 1.75: Store the Rules in some sort of struct(will help you later)\n",
    "\n",
    "Step 2: {All Symbols} - {Non Terminals} = {Terminals}"
   ]
  },
  {
   "cell_type": "code",
   "execution_count": null,
   "metadata": {},
   "outputs": [],
   "source": []
  }
 ],
 "metadata": {
  "celltoolbar": "Slideshow",
  "kernelspec": {
   "display_name": "Python 3",
   "language": "python",
   "name": "python3"
  },
  "language_info": {
   "codemirror_mode": {
    "name": "ipython",
    "version": 3
   },
   "file_extension": ".py",
   "mimetype": "text/x-python",
   "name": "python",
   "nbconvert_exporter": "python",
   "pygments_lexer": "ipython3",
   "version": "3.6.5"
  }
 },
 "nbformat": 4,
 "nbformat_minor": 2
}
