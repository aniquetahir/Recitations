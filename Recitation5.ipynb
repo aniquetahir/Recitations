{
 "cells": [
  {
   "cell_type": "markdown",
   "metadata": {
    "slideshow": {
     "slide_type": "slide"
    }
   },
   "source": [
    "# Recitation 5*\n",
    "---\n",
    "\n",
    "$*$Please mark attendance\n",
    "\n",
    "---\n",
    "Anique Tahir"
   ]
  },
  {
   "cell_type": "markdown",
   "metadata": {
    "slideshow": {
     "slide_type": "subslide"
    }
   },
   "source": [
    "## Outline\n",
    "\n",
    "- Operator Precedence Parsing\n",
    "- Lambda Calculus\n",
    "- Exam Review"
   ]
  },
  {
   "cell_type": "markdown",
   "metadata": {
    "slideshow": {
     "slide_type": "slide"
    }
   },
   "source": [
    "## Operator Precedence Parsing\n",
    "\n",
    "- Sequence of Shift and Reduce instructions\n",
    "- Shift to stack unless\n",
    "    - there is some **operator** on top of stack which has higher precedence \n",
    "    - Reduce according to the rules"
   ]
  },
  {
   "cell_type": "markdown",
   "metadata": {
    "slideshow": {
     "slide_type": "subslide"
    }
   },
   "source": [
    "## Operator Precedence Parsing Example\n",
    "\n",
    "Input: $1 + 2 \\times 3$\n",
    "\n"
   ]
  },
  {
   "cell_type": "markdown",
   "metadata": {
    "slideshow": {
     "slide_type": "fragment"
    }
   },
   "source": [
    "<table width=\"100%\">\n",
    "    <tr>\n",
    "        <th>Stack</th>\n",
    "        <th>Input</th>\n",
    "    </tr>\n",
    "    <tr>\n",
    "        <td>\\$</td>\n",
    "        <td>$1 + 2 \\times 3 \\$$</td>\n",
    "    </tr>\n",
    "</table>"
   ]
  },
  {
   "cell_type": "markdown",
   "metadata": {
    "slideshow": {
     "slide_type": "subslide"
    }
   },
   "source": [
    "$\\$ \\prec id$\n",
    "<table width=\"100%\">\n",
    "    <tr>\n",
    "        <th>Stack</th>\n",
    "        <th>Input</th>\n",
    "    </tr>\n",
    "    <tr>\n",
    "        <td>\\$</td>\n",
    "        <td>$1 + 2 \\times 3 \\$$</td>\n",
    "    </tr>\n",
    "</table>"
   ]
  },
  {
   "cell_type": "markdown",
   "metadata": {
    "slideshow": {
     "slide_type": "fragment"
    }
   },
   "source": [
    "<table width=\"100%\">\n",
    "    <tr>\n",
    "        <th>Stack</th>\n",
    "        <th>Input</th>\n",
    "    </tr>\n",
    "    <tr>\n",
    "        <td>\\$1</td>\n",
    "        <td>$ + 2 \\times 3 \\$$</td>\n",
    "    </tr>\n",
    "</table>"
   ]
  },
  {
   "cell_type": "markdown",
   "metadata": {
    "slideshow": {
     "slide_type": "subslide"
    }
   },
   "source": [
    "$id \\succ +$\n",
    "<table width=\"100%\">\n",
    "    <tr>\n",
    "        <th>Stack</th>\n",
    "        <th>Input</th>\n",
    "    </tr>\n",
    "    <tr>\n",
    "        <td>\\$1</td>\n",
    "        <td>$ + 2 \\times 3 \\$$</td>\n",
    "    </tr>\n",
    "</table>"
   ]
  },
  {
   "cell_type": "markdown",
   "metadata": {
    "slideshow": {
     "slide_type": "fragment"
    }
   },
   "source": [
    "<table width=\"100%\">\n",
    "    <tr>\n",
    "        <th>Stack</th>\n",
    "        <th>Input</th>\n",
    "    </tr>\n",
    "    <tr>\n",
    "        <td>\\$E</td>\n",
    "        <td>$ + 2 \\times 3 \\$$</td>\n",
    "    </tr>\n",
    "</table>"
   ]
  },
  {
   "cell_type": "markdown",
   "metadata": {
    "slideshow": {
     "slide_type": "subslide"
    }
   },
   "source": [
    "$\\$ \\prec +$\n",
    "<table width=\"100%\">\n",
    "    <tr>\n",
    "        <th>Stack</th>\n",
    "        <th>Input</th>\n",
    "    </tr>\n",
    "    <tr>\n",
    "        <td>$\\$E +$</td>\n",
    "        <td>$ 2 \\times 3 \\$$</td>\n",
    "    </tr>\n",
    "</table>"
   ]
  },
  {
   "cell_type": "markdown",
   "metadata": {
    "slideshow": {
     "slide_type": "subslide"
    }
   },
   "source": [
    "$+ \\prec id$\n",
    "<table width=\"100%\">\n",
    "    <tr>\n",
    "        <th>Stack</th>\n",
    "        <th>Input</th>\n",
    "    </tr>\n",
    "    <tr>\n",
    "        <td>$\\$E + 2$</td>\n",
    "        <td>$\\times 3 \\$$</td>\n",
    "    </tr>\n",
    "</table>"
   ]
  },
  {
   "cell_type": "markdown",
   "metadata": {
    "slideshow": {
     "slide_type": "subslide"
    }
   },
   "source": [
    "$id \\succ \\times$\n",
    "<table width=\"100%\">\n",
    "    <tr>\n",
    "        <th>Stack</th>\n",
    "        <th>Input</th>\n",
    "    </tr>\n",
    "    <tr>\n",
    "        <td>$\\$E + 2$</td>\n",
    "        <td>$\\times 3 \\$$</td>\n",
    "    </tr>\n",
    "</table>"
   ]
  },
  {
   "cell_type": "markdown",
   "metadata": {
    "slideshow": {
     "slide_type": "subslide"
    }
   },
   "source": [
    "<table width=\"100%\">\n",
    "    <tr>\n",
    "        <th>Stack</th>\n",
    "        <th>Input</th>\n",
    "    </tr>\n",
    "    <tr>\n",
    "        <td>$\\$E + E$</td>\n",
    "        <td>$\\times 3 \\$$</td>\n",
    "    </tr>\n",
    "</table>"
   ]
  },
  {
   "cell_type": "markdown",
   "metadata": {
    "slideshow": {
     "slide_type": "subslide"
    }
   },
   "source": [
    "$+ \\prec \\times$\n",
    "<table width=\"100%\">\n",
    "    <tr>\n",
    "        <th>Stack</th>\n",
    "        <th>Input</th>\n",
    "    </tr>\n",
    "    <tr>\n",
    "        <td>$\\$E + E \\times$</td>\n",
    "        <td>$3 \\$$</td>\n",
    "    </tr>\n",
    "</table>"
   ]
  },
  {
   "cell_type": "markdown",
   "metadata": {
    "slideshow": {
     "slide_type": "subslide"
    }
   },
   "source": [
    "$\\times \\prec id$\n",
    "<table width=\"100%\">\n",
    "    <tr>\n",
    "        <th>Stack</th>\n",
    "        <th>Input</th>\n",
    "    </tr>\n",
    "    <tr>\n",
    "        <td>$\\$E + E \\times 3$</td>\n",
    "        <td>\\$</td>\n",
    "    </tr>\n",
    "</table>"
   ]
  },
  {
   "cell_type": "markdown",
   "metadata": {
    "slideshow": {
     "slide_type": "subslide"
    }
   },
   "source": [
    "$id \\succ \\$$\n",
    "\n",
    "<table width=\"100%\">\n",
    "    <tr>\n",
    "        <th>Stack</th>\n",
    "        <th>Input</th>\n",
    "    </tr>\n",
    "    <tr>\n",
    "        <td>$\\$E + E \\times E$</td>\n",
    "        <td>\\$</td>\n",
    "    </tr>\n",
    "</table>"
   ]
  },
  {
   "cell_type": "markdown",
   "metadata": {
    "slideshow": {
     "slide_type": "subslide"
    }
   },
   "source": [
    "$\\times \\succ \\$$\n",
    "\n",
    "<table width=\"100%\">\n",
    "    <tr>\n",
    "        <th>Stack</th>\n",
    "        <th>Input</th>\n",
    "    </tr>\n",
    "    <tr>\n",
    "        <td>$\\$E + E$</td>\n",
    "        <td>\\$</td>\n",
    "    </tr>\n",
    "</table>"
   ]
  },
  {
   "cell_type": "markdown",
   "metadata": {
    "slideshow": {
     "slide_type": "subslide"
    }
   },
   "source": [
    "$+ \\succ \\$$\n",
    "\n",
    "<table width=\"100%\">\n",
    "    <tr>\n",
    "        <th>Stack</th>\n",
    "        <th>Input</th>\n",
    "    </tr>\n",
    "    <tr>\n",
    "        <td>$\\$E$</td>\n",
    "        <td>\\$</td>\n",
    "    </tr>\n",
    "</table>"
   ]
  },
  {
   "cell_type": "markdown",
   "metadata": {
    "slideshow": {
     "slide_type": "slide"
    }
   },
   "source": [
    "# Lambda Calculus\n",
    "\n",
    "- Used for formally representing function abstraction"
   ]
  },
  {
   "cell_type": "markdown",
   "metadata": {
    "slideshow": {
     "slide_type": "fragment"
    }
   },
   "source": [
    "e.g.\n",
    "```\n",
    "fn plus_one(x){\n",
    "    return x+1;\n",
    "}\n",
    "```"
   ]
  },
  {
   "cell_type": "markdown",
   "metadata": {
    "slideshow": {
     "slide_type": "fragment"
    }
   },
   "source": [
    "$\\lambda x.x+1$"
   ]
  },
  {
   "cell_type": "markdown",
   "metadata": {
    "slideshow": {
     "slide_type": "subslide"
    }
   },
   "source": [
    "## Parenthesizing Lambda Expressions\n",
    "\n",
    "- Start from Left to Right\n",
    "- Parenthesize Abstractions First\n",
    "- Abstractions Parenthesize all the way to the right(until encountering outer bracket)\n",
    "- Everything in general parenthesizes to the left\n",
    "\n",
    "e.g.\n",
    "\n",
    "$\\lambda x.x+1 = \\lambda x.(x+1)$\n",
    "\n",
    "$abcde = ((((ab)c)d)e)$ "
   ]
  },
  {
   "cell_type": "markdown",
   "metadata": {
    "slideshow": {
     "slide_type": "subslide"
    }
   },
   "source": [
    "## Reducible Expressions\n",
    "- After parenthesizing, if you see the form $(\\lambda x.t)t'$, a redux exists\n",
    "- Beta reduction is the process of applying the redux by replacing all x by t'"
   ]
  },
  {
   "cell_type": "markdown",
   "metadata": {
    "slideshow": {
     "slide_type": "fragment"
    }
   },
   "source": [
    "Example:\n",
    "\n",
    "$x (\\lambda x. x) x$"
   ]
  },
  {
   "cell_type": "markdown",
   "metadata": {
    "slideshow": {
     "slide_type": "fragment"
    }
   },
   "source": [
    "No Redux's"
   ]
  },
  {
   "cell_type": "markdown",
   "metadata": {
    "slideshow": {
     "slide_type": "subslide"
    }
   },
   "source": [
    "$( (\\lambda x. x) (\\lambda x. x) ) ( (\\lambda x. x) \\lambda x. x )$"
   ]
  },
  {
   "cell_type": "markdown",
   "metadata": {
    "slideshow": {
     "slide_type": "subslide"
    }
   },
   "source": [
    "## Beta Reduction Example\n",
    "$(\\lambda x. x y) (\\lambda y. z) $"
   ]
  },
  {
   "cell_type": "markdown",
   "metadata": {
    "slideshow": {
     "slide_type": "fragment"
    }
   },
   "source": [
    "$=(\\lambda y.z)y$"
   ]
  },
  {
   "cell_type": "markdown",
   "metadata": {
    "slideshow": {
     "slide_type": "fragment"
    }
   },
   "source": [
    "$=z$"
   ]
  },
  {
   "cell_type": "markdown",
   "metadata": {
    "slideshow": {
     "slide_type": "subslide"
    }
   },
   "source": [
    "## Renaming Variables in reductions\n",
    "- Sometimes variables in reductions are bound to some other abstraction.\n",
    "\n",
    "Solution: \n",
    "Rename the variables in the abstractions"
   ]
  },
  {
   "cell_type": "markdown",
   "metadata": {
    "slideshow": {
     "slide_type": "fragment"
    }
   },
   "source": [
    "Example\n",
    "\n",
    "$( \\lambda y. \\lambda z. y(\\lambda x. x)  z) z$"
   ]
  },
  {
   "cell_type": "markdown",
   "metadata": {
    "slideshow": {
     "slide_type": "fragment"
    }
   },
   "source": [
    "Rename z!\n",
    "\n",
    "$=( \\lambda y. \\lambda w. y(\\lambda x. x)  w) z$"
   ]
  },
  {
   "cell_type": "markdown",
   "metadata": {
    "slideshow": {
     "slide_type": "slide"
    }
   },
   "source": [
    "## Exam Review (Past Exam Questions)"
   ]
  },
  {
   "attachments": {},
   "cell_type": "markdown",
   "metadata": {
    "slideshow": {
     "slide_type": "subslide"
    }
   },
   "source": [
    "![Screen%20Shot%202019-02-11%20at%2010.16.44%20PM.png](Screen%20Shot%202019-02-11%20at%2010.16.44%20PM.png)"
   ]
  },
  {
   "attachments": {},
   "cell_type": "markdown",
   "metadata": {
    "slideshow": {
     "slide_type": "subslide"
    }
   },
   "source": [
    "![Screen%20Shot%202019-02-11%20at%2010.19.57%20PM.png](Screen%20Shot%202019-02-11%20at%2010.19.57%20PM.png)"
   ]
  },
  {
   "attachments": {},
   "cell_type": "markdown",
   "metadata": {
    "slideshow": {
     "slide_type": "subslide"
    }
   },
   "source": [
    "![Screen%20Shot%202019-02-11%20at%2010.34.01%20PM.png](Screen%20Shot%202019-02-11%20at%2010.34.01%20PM.png)"
   ]
  },
  {
   "attachments": {},
   "cell_type": "markdown",
   "metadata": {
    "slideshow": {
     "slide_type": "subslide"
    }
   },
   "source": [
    "![Screen%20Shot%202019-02-11%20at%2010.39.34%20PM.png](Screen%20Shot%202019-02-11%20at%2010.39.34%20PM.png)"
   ]
  },
  {
   "cell_type": "code",
   "execution_count": null,
   "metadata": {},
   "outputs": [],
   "source": []
  }
 ],
 "metadata": {
  "celltoolbar": "Slideshow",
  "kernelspec": {
   "display_name": "Python 3",
   "language": "python",
   "name": "python3"
  },
  "language_info": {
   "codemirror_mode": {
    "name": "ipython",
    "version": 3
   },
   "file_extension": ".py",
   "mimetype": "text/x-python",
   "name": "python",
   "nbconvert_exporter": "python",
   "pygments_lexer": "ipython3",
   "version": "3.6.5"
  }
 },
 "nbformat": 4,
 "nbformat_minor": 2
}
